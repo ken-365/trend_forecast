{
 "metadata": {
  "language_info": {
   "codemirror_mode": {
    "name": "ipython",
    "version": 3
   },
   "file_extension": ".py",
   "mimetype": "text/x-python",
   "name": "python",
   "nbconvert_exporter": "python",
   "pygments_lexer": "ipython3",
   "version": "3.6.5-final"
  },
  "orig_nbformat": 2,
  "kernelspec": {
   "name": "python3",
   "display_name": "Python 3.6.5 64-bit ('stock_ai': conda)",
   "metadata": {
    "interpreter": {
     "hash": "777d98fd6dac4e283b66c8c57d34f1581548f7c7d25abb5ab0884a44f3eda914"
    }
   }
  }
 },
 "nbformat": 4,
 "nbformat_minor": 2,
 "cells": [
  {
   "source": [
    "# Sentimental Analysys from stock news"
   ],
   "cell_type": "markdown",
   "metadata": {}
  },
  {
   "source": [
    "## Scraping Data"
   ],
   "cell_type": "markdown",
   "metadata": {}
  },
  {
   "cell_type": "code",
   "execution_count": 2,
   "metadata": {},
   "outputs": [],
   "source": [
    "# Import libraries\n",
    "from urllib.request import urlopen, Request\n",
    "from bs4 import BeautifulSoup\n",
    "import os\n",
    "import pandas as pd\n",
    "import matplotlib.pyplot as plt\n",
    "%matplotlib inline\n",
    "# NLTK VADER for sentiment analysis\n",
    "from nltk.sentiment.vader import SentimentIntensityAnalyzer\n",
    "from time import sleep\n",
    "\n",
    "finwiz_url = 'https://finviz.com/quote.ashx?t='"
   ]
  },
  {
   "cell_type": "code",
   "execution_count": 3,
   "metadata": {},
   "outputs": [
    {
     "output_type": "execute_result",
     "data": {
      "text/plain": [
       "['AAPL', 'MSFT', 'AMZN']"
      ]
     },
     "metadata": {},
     "execution_count": 3
    }
   ],
   "source": [
    "# init \n",
    "datapath = '/mnt/c/Users/poom/drive/01project/01cap_stone/04data/01stockprice'\n",
    "# create list of S&P500 symbols\n",
    "symbol = pd.read_csv(os.path.join(datapath,\"sp500symbol.csv\"))\n",
    "symbol_list = symbol['Symbol'].tolist()\n",
    "symbol_list[:3]"
   ]
  },
  {
   "cell_type": "code",
   "execution_count": 72,
   "metadata": {},
   "outputs": [
    {
     "output_type": "execute_result",
     "data": {
      "text/plain": [
       "'NWS'"
      ]
     },
     "metadata": {},
     "execution_count": 72
    }
   ],
   "source": [
    "symbol_list[-1]"
   ]
  },
  {
   "cell_type": "code",
   "execution_count": 73,
   "metadata": {},
   "outputs": [],
   "source": [
    "## scraping stock news from https://finviz.com/quote.ashx?t=amzn\n",
    "news_tables = {}\n",
    "tickers = symbol_list\n",
    "count = 0\n",
    "\n",
    "for ticker in tickers:\n",
    "    try:\n",
    "        url = finwiz_url + ticker\n",
    "        req = Request(url=url,headers={'user-agent': 'my-app/0.0.1'}) \n",
    "        response = urlopen(req)    \n",
    "        # Read the contents of the file into 'html'\n",
    "        html = BeautifulSoup(response)\n",
    "        # Find 'news-table' in the Soup and load it into 'news_table'\n",
    "        news_table = html.find(id='news-table')\n",
    "        # Add the table to our dictionary\n",
    "        news_tables[ticker] = news_table\n",
    "\n",
    "        #prevent api from crashing\n",
    "        count += 1\n",
    "        if count %40 == 0:\n",
    "            sleep(5)\n",
    "    except Exception:\n",
    "        None\n"
   ]
  },
  {
   "cell_type": "code",
   "execution_count": 77,
   "metadata": {},
   "outputs": [
    {
     "output_type": "execute_result",
     "data": {
      "text/plain": [
       "503"
      ]
     },
     "metadata": {},
     "execution_count": 77
    }
   ],
   "source": [
    "len(news_tables)"
   ]
  },
  {
   "source": [
    "### Print the Data Stored in news_tables"
   ],
   "cell_type": "markdown",
   "metadata": {}
  },
  {
   "cell_type": "code",
   "execution_count": 74,
   "metadata": {},
   "outputs": [
    {
     "output_type": "stream",
     "name": "stdout",
     "text": [
      "Is NWSA A Good Stock To Buy According To Hedge Funds?\nDec-21-20 10:46AM  \nNews Corp's Rupert Murdoch has received COVID-19 vaccine\nDec-18-20 10:51AM  \nStatement By News Corp Regarding Multistate Litigation Against Google\nDec-17-20 12:54PM  \nRealtor.com® Survey: More than a Third of Young Americans are More Interested in Smart Home Technology Due to the Pandemic\n06:00AM  \nRealtor.com® Acquires Avail\nDec-15-20 06:15PM  \nRealtor.com® Analysis: Risk of Flood and Wildfire Damage Likely to Impact Home Prices in 2021 and Beyond\nDec-14-20 06:00AM  \n"
     ]
    }
   ],
   "source": [
    "\n",
    "# Read one single day of headlines for 'AMZN' \n",
    "amzn = news_tables['NWS']\n",
    "# Get all the table rows tagged in HTML with <tr> into 'amzn_tr'\n",
    "amzn_tr = amzn.findAll('tr')\n",
    "\n",
    "for i, table_row in enumerate(amzn_tr):\n",
    "    # Read the text of the element 'a' into 'link_text'\n",
    "    a_text = table_row.a.text\n",
    "    # Read the text of the element 'td' into 'data_text'\n",
    "    td_text = table_row.td.text\n",
    "    # Print the contents of 'link_text' and 'data_text' \n",
    "    print(a_text)\n",
    "    print(td_text)\n",
    "    # Exit after printing 4 rows of data\n",
    "    if i == 5:\n",
    "        break"
   ]
  },
  {
   "source": [
    "### Parse the Date, Time and News Headlines into a Python List"
   ],
   "cell_type": "markdown",
   "metadata": {}
  },
  {
   "cell_type": "code",
   "execution_count": 78,
   "metadata": {},
   "outputs": [
    {
     "output_type": "execute_result",
     "data": {
      "text/plain": [
       "[['AAPL',\n",
       "  'Dec-30-20',\n",
       "  '08:42AM',\n",
       "  'Why Apple Could Be a Top Growth Stock in 2021'],\n",
       " ['AAPL', 'Dec-30-20', '08:33AM', 'Is Apple (AAPL) a Smart Long-term Buy?'],\n",
       " ['AAPL',\n",
       "  'Dec-30-20',\n",
       "  '08:16AM',\n",
       "  'Apple (AAPL) Supplier Accused of Using Forced Labor in China']]"
      ]
     },
     "metadata": {},
     "execution_count": 78
    }
   ],
   "source": [
    "parsed_news = []\n",
    "\n",
    "# Iterate through the news\n",
    "for file_name, news_table in news_tables.items():\n",
    "    # Iterate through all tr tags in 'news_table'\n",
    "    for x in news_table.findAll('tr'):\n",
    "        # read the text from each tr tag into text\n",
    "        # get text from a only\n",
    "        text = x.a.get_text() \n",
    "        # splite text in the td tag into a list \n",
    "        date_scrape = x.td.text.split()\n",
    "        # if the length of 'date_scrape' is 1, load 'time' as the only element\n",
    "\n",
    "        if len(date_scrape) == 1:\n",
    "            time = date_scrape[0]\n",
    "            \n",
    "        # else load 'date' as the 1st element and 'time' as the second    \n",
    "        else:\n",
    "            date = date_scrape[0]\n",
    "            time = date_scrape[1]\n",
    "        # Extract the ticker from the file name, get the string up to the 1st '_'  \n",
    "        ticker = file_name.split('_')[0]\n",
    "        \n",
    "        # Append ticker, date, time and headline as a list to the 'parsed_news' list\n",
    "        parsed_news.append([ticker, date, time, text])\n",
    "parsed_news[:3]"
   ]
  },
  {
   "cell_type": "code",
   "execution_count": 79,
   "metadata": {},
   "outputs": [
    {
     "output_type": "stream",
     "name": "stderr",
     "text": [
      "[nltk_data] Downloading package vader_lexicon to\n[nltk_data]     /home/poomsss0/nltk_data...\n[nltk_data]   Package vader_lexicon is already up-to-date!\n"
     ]
    },
    {
     "output_type": "execute_result",
     "data": {
      "text/plain": [
       "  ticker        date     time  \\\n",
       "0   AAPL  2020-12-30  08:42AM   \n",
       "1   AAPL  2020-12-30  08:33AM   \n",
       "2   AAPL  2020-12-30  08:16AM   \n",
       "3   AAPL  2020-12-30  08:15AM   \n",
       "4   AAPL  2020-12-30  08:00AM   \n",
       "\n",
       "                                            headline    neg    neu    pos  \\\n",
       "0      Why Apple Could Be a Top Growth Stock in 2021  0.000  0.614  0.386   \n",
       "1             Is Apple (AAPL) a Smart Long-term Buy?  0.000  0.649  0.351   \n",
       "2  Apple (AAPL) Supplier Accused of Using Forced ...  0.394  0.606  0.000   \n",
       "3  3 Great Dividend Stocks Whose Payouts Could Do...  0.000  0.594  0.406   \n",
       "4          Why Logitech's CEO Fires, Rehires Himself  0.000  1.000  0.000   \n",
       "\n",
       "   compound  \n",
       "0    0.5267  \n",
       "1    0.4019  \n",
       "2   -0.6369  \n",
       "3    0.6249  \n",
       "4    0.0000  "
      ],
      "text/html": "<div>\n<style scoped>\n    .dataframe tbody tr th:only-of-type {\n        vertical-align: middle;\n    }\n\n    .dataframe tbody tr th {\n        vertical-align: top;\n    }\n\n    .dataframe thead th {\n        text-align: right;\n    }\n</style>\n<table border=\"1\" class=\"dataframe\">\n  <thead>\n    <tr style=\"text-align: right;\">\n      <th></th>\n      <th>ticker</th>\n      <th>date</th>\n      <th>time</th>\n      <th>headline</th>\n      <th>neg</th>\n      <th>neu</th>\n      <th>pos</th>\n      <th>compound</th>\n    </tr>\n  </thead>\n  <tbody>\n    <tr>\n      <th>0</th>\n      <td>AAPL</td>\n      <td>2020-12-30</td>\n      <td>08:42AM</td>\n      <td>Why Apple Could Be a Top Growth Stock in 2021</td>\n      <td>0.000</td>\n      <td>0.614</td>\n      <td>0.386</td>\n      <td>0.5267</td>\n    </tr>\n    <tr>\n      <th>1</th>\n      <td>AAPL</td>\n      <td>2020-12-30</td>\n      <td>08:33AM</td>\n      <td>Is Apple (AAPL) a Smart Long-term Buy?</td>\n      <td>0.000</td>\n      <td>0.649</td>\n      <td>0.351</td>\n      <td>0.4019</td>\n    </tr>\n    <tr>\n      <th>2</th>\n      <td>AAPL</td>\n      <td>2020-12-30</td>\n      <td>08:16AM</td>\n      <td>Apple (AAPL) Supplier Accused of Using Forced ...</td>\n      <td>0.394</td>\n      <td>0.606</td>\n      <td>0.000</td>\n      <td>-0.6369</td>\n    </tr>\n    <tr>\n      <th>3</th>\n      <td>AAPL</td>\n      <td>2020-12-30</td>\n      <td>08:15AM</td>\n      <td>3 Great Dividend Stocks Whose Payouts Could Do...</td>\n      <td>0.000</td>\n      <td>0.594</td>\n      <td>0.406</td>\n      <td>0.6249</td>\n    </tr>\n    <tr>\n      <th>4</th>\n      <td>AAPL</td>\n      <td>2020-12-30</td>\n      <td>08:00AM</td>\n      <td>Why Logitech's CEO Fires, Rehires Himself</td>\n      <td>0.000</td>\n      <td>1.000</td>\n      <td>0.000</td>\n      <td>0.0000</td>\n    </tr>\n  </tbody>\n</table>\n</div>"
     },
     "metadata": {},
     "execution_count": 79
    }
   ],
   "source": [
    "# download model package\n",
    "import nltk\n",
    "nltk.download('vader_lexicon')\n",
    "# Instantiate the sentiment intensity analyzer\n",
    "vader = SentimentIntensityAnalyzer()\n",
    "\n",
    "# Set column names\n",
    "columns = ['ticker', 'date', 'time', 'headline']\n",
    "\n",
    "# Convert the parsed_news list into a DataFrame called 'parsed_and_scored_news'\n",
    "parsed_and_scored_news = pd.DataFrame(parsed_news, columns=columns)\n",
    "\n",
    "# Iterate through the headlines and get the polarity scores using vader\n",
    "scores = parsed_and_scored_news['headline'].apply(vader.polarity_scores).tolist()\n",
    "\n",
    "# Convert the 'scores' list of dicts into a DataFrame\n",
    "scores_df = pd.DataFrame(scores)\n",
    "\n",
    "# Join the DataFrames of the news and the list of dicts\n",
    "parsed_and_scored_news = parsed_and_scored_news.join(scores_df, rsuffix='_right')\n",
    "\n",
    "# Convert the date column from string to datetime\n",
    "parsed_and_scored_news['date'] = pd.to_datetime(parsed_and_scored_news.date).dt.date\n",
    "\n",
    "parsed_and_scored_news.head()"
   ]
  },
  {
   "cell_type": "code",
   "execution_count": 92,
   "metadata": {},
   "outputs": [
    {
     "output_type": "execute_result",
     "data": {
      "text/plain": [
       "(49945, 8)"
      ]
     },
     "metadata": {},
     "execution_count": 92
    }
   ],
   "source": [
    "parsed_and_scored_news.shape"
   ]
  },
  {
   "cell_type": "code",
   "execution_count": 102,
   "metadata": {},
   "outputs": [
    {
     "output_type": "execute_result",
     "data": {
      "text/plain": [
       "ticker\n",
       "A       2020-05-22\n",
       "AAL     2020-11-26\n",
       "AAP     2020-05-19\n",
       "AAPL    2020-12-23\n",
       "ABBV    2020-11-05\n",
       "           ...    \n",
       "YUM     2020-09-28\n",
       "ZBH     2020-03-03\n",
       "ZBRA    2020-04-28\n",
       "ZION    2019-10-21\n",
       "ZTS     2020-04-30\n",
       "Name: date, Length: 503, dtype: object"
      ]
     },
     "metadata": {},
     "execution_count": 102
    }
   ],
   "source": [
    "parsed_and_scored_news.groupby('ticker')['date'].min()"
   ]
  },
  {
   "cell_type": "code",
   "execution_count": 82,
   "metadata": {},
   "outputs": [
    {
     "output_type": "stream",
     "name": "stdout",
     "text": [
      "<class 'pandas.core.frame.DataFrame'>\nRangeIndex: 49945 entries, 0 to 49944\nData columns (total 8 columns):\n #   Column    Non-Null Count  Dtype  \n---  ------    --------------  -----  \n 0   ticker    49945 non-null  object \n 1   date      49945 non-null  object \n 2   time      49945 non-null  object \n 3   headline  49945 non-null  object \n 4   neg       49945 non-null  float64\n 5   neu       49945 non-null  float64\n 6   pos       49945 non-null  float64\n 7   compound  49945 non-null  float64\ndtypes: float64(4), object(4)\nmemory usage: 3.0+ MB\n"
     ]
    }
   ],
   "source": [
    "parsed_and_scored_news.info()"
   ]
  },
  {
   "cell_type": "code",
   "execution_count": 84,
   "metadata": {},
   "outputs": [
    {
     "output_type": "execute_result",
     "data": {
      "text/plain": [
       "503"
      ]
     },
     "metadata": {},
     "execution_count": 84
    }
   ],
   "source": [
    "parsed_and_scored_news['ticker'].nunique()"
   ]
  },
  {
   "cell_type": "code",
   "execution_count": 81,
   "metadata": {},
   "outputs": [],
   "source": [
    "parsed_and_scored_news.to_csv(os.path.join(datapath,\"sentimental_analysis.csv\"))"
   ]
  },
  {
   "cell_type": "code",
   "execution_count": 4,
   "metadata": {},
   "outputs": [],
   "source": [
    "# continue \n",
    "sentimental = pd.read_csv(os.path.join(datapath,'sentimental_analysis.csv'))"
   ]
  },
  {
   "cell_type": "code",
   "execution_count": 5,
   "metadata": {},
   "outputs": [
    {
     "output_type": "execute_result",
     "data": {
      "text/plain": [
       "   Unnamed: 0 ticker        date     time  \\\n",
       "0           0   AAPL  2020-12-30  08:42AM   \n",
       "1           1   AAPL  2020-12-30  08:33AM   \n",
       "2           2   AAPL  2020-12-30  08:16AM   \n",
       "3           3   AAPL  2020-12-30  08:15AM   \n",
       "4           4   AAPL  2020-12-30  08:00AM   \n",
       "\n",
       "                                            headline    neg    neu    pos  \\\n",
       "0      Why Apple Could Be a Top Growth Stock in 2021  0.000  0.614  0.386   \n",
       "1             Is Apple (AAPL) a Smart Long-term Buy?  0.000  0.649  0.351   \n",
       "2  Apple (AAPL) Supplier Accused of Using Forced ...  0.394  0.606  0.000   \n",
       "3  3 Great Dividend Stocks Whose Payouts Could Do...  0.000  0.594  0.406   \n",
       "4          Why Logitech's CEO Fires, Rehires Himself  0.000  1.000  0.000   \n",
       "\n",
       "   compound  \n",
       "0    0.5267  \n",
       "1    0.4019  \n",
       "2   -0.6369  \n",
       "3    0.6249  \n",
       "4    0.0000  "
      ],
      "text/html": "<div>\n<style scoped>\n    .dataframe tbody tr th:only-of-type {\n        vertical-align: middle;\n    }\n\n    .dataframe tbody tr th {\n        vertical-align: top;\n    }\n\n    .dataframe thead th {\n        text-align: right;\n    }\n</style>\n<table border=\"1\" class=\"dataframe\">\n  <thead>\n    <tr style=\"text-align: right;\">\n      <th></th>\n      <th>Unnamed: 0</th>\n      <th>ticker</th>\n      <th>date</th>\n      <th>time</th>\n      <th>headline</th>\n      <th>neg</th>\n      <th>neu</th>\n      <th>pos</th>\n      <th>compound</th>\n    </tr>\n  </thead>\n  <tbody>\n    <tr>\n      <th>0</th>\n      <td>0</td>\n      <td>AAPL</td>\n      <td>2020-12-30</td>\n      <td>08:42AM</td>\n      <td>Why Apple Could Be a Top Growth Stock in 2021</td>\n      <td>0.000</td>\n      <td>0.614</td>\n      <td>0.386</td>\n      <td>0.5267</td>\n    </tr>\n    <tr>\n      <th>1</th>\n      <td>1</td>\n      <td>AAPL</td>\n      <td>2020-12-30</td>\n      <td>08:33AM</td>\n      <td>Is Apple (AAPL) a Smart Long-term Buy?</td>\n      <td>0.000</td>\n      <td>0.649</td>\n      <td>0.351</td>\n      <td>0.4019</td>\n    </tr>\n    <tr>\n      <th>2</th>\n      <td>2</td>\n      <td>AAPL</td>\n      <td>2020-12-30</td>\n      <td>08:16AM</td>\n      <td>Apple (AAPL) Supplier Accused of Using Forced ...</td>\n      <td>0.394</td>\n      <td>0.606</td>\n      <td>0.000</td>\n      <td>-0.6369</td>\n    </tr>\n    <tr>\n      <th>3</th>\n      <td>3</td>\n      <td>AAPL</td>\n      <td>2020-12-30</td>\n      <td>08:15AM</td>\n      <td>3 Great Dividend Stocks Whose Payouts Could Do...</td>\n      <td>0.000</td>\n      <td>0.594</td>\n      <td>0.406</td>\n      <td>0.6249</td>\n    </tr>\n    <tr>\n      <th>4</th>\n      <td>4</td>\n      <td>AAPL</td>\n      <td>2020-12-30</td>\n      <td>08:00AM</td>\n      <td>Why Logitech's CEO Fires, Rehires Himself</td>\n      <td>0.000</td>\n      <td>1.000</td>\n      <td>0.000</td>\n      <td>0.0000</td>\n    </tr>\n  </tbody>\n</table>\n</div>"
     },
     "metadata": {},
     "execution_count": 5
    }
   ],
   "source": [
    "sentimental.head()"
   ]
  },
  {
   "cell_type": "code",
   "execution_count": 10,
   "metadata": {},
   "outputs": [
    {
     "output_type": "execute_result",
     "data": {
      "text/plain": [
       "  ticker        date  compound\n",
       "0   AAPL  2020-12-30    0.5267\n",
       "1   AAPL  2020-12-30    0.4019\n",
       "2   AAPL  2020-12-30   -0.6369\n",
       "3   AAPL  2020-12-30    0.6249\n",
       "4   AAPL  2020-12-30    0.0000"
      ],
      "text/html": "<div>\n<style scoped>\n    .dataframe tbody tr th:only-of-type {\n        vertical-align: middle;\n    }\n\n    .dataframe tbody tr th {\n        vertical-align: top;\n    }\n\n    .dataframe thead th {\n        text-align: right;\n    }\n</style>\n<table border=\"1\" class=\"dataframe\">\n  <thead>\n    <tr style=\"text-align: right;\">\n      <th></th>\n      <th>ticker</th>\n      <th>date</th>\n      <th>compound</th>\n    </tr>\n  </thead>\n  <tbody>\n    <tr>\n      <th>0</th>\n      <td>AAPL</td>\n      <td>2020-12-30</td>\n      <td>0.5267</td>\n    </tr>\n    <tr>\n      <th>1</th>\n      <td>AAPL</td>\n      <td>2020-12-30</td>\n      <td>0.4019</td>\n    </tr>\n    <tr>\n      <th>2</th>\n      <td>AAPL</td>\n      <td>2020-12-30</td>\n      <td>-0.6369</td>\n    </tr>\n    <tr>\n      <th>3</th>\n      <td>AAPL</td>\n      <td>2020-12-30</td>\n      <td>0.6249</td>\n    </tr>\n    <tr>\n      <th>4</th>\n      <td>AAPL</td>\n      <td>2020-12-30</td>\n      <td>0.0000</td>\n    </tr>\n  </tbody>\n</table>\n</div>"
     },
     "metadata": {},
     "execution_count": 10
    }
   ],
   "source": [
    "sentimental_summary =   sentimental[['ticker','date','compound']]\n",
    "sentimental_summary.head()"
   ]
  },
  {
   "cell_type": "code",
   "execution_count": 12,
   "metadata": {},
   "outputs": [
    {
     "output_type": "execute_result",
     "data": {
      "text/plain": [
       "                   compound\n",
       "ticker date                \n",
       "A      2020-05-22    0.0000\n",
       "       2020-05-23   -0.3753\n",
       "       2020-05-25    0.2500\n",
       "       2020-05-27    0.0000\n",
       "       2020-05-28    0.4462"
      ],
      "text/html": "<div>\n<style scoped>\n    .dataframe tbody tr th:only-of-type {\n        vertical-align: middle;\n    }\n\n    .dataframe tbody tr th {\n        vertical-align: top;\n    }\n\n    .dataframe thead th {\n        text-align: right;\n    }\n</style>\n<table border=\"1\" class=\"dataframe\">\n  <thead>\n    <tr style=\"text-align: right;\">\n      <th></th>\n      <th></th>\n      <th>compound</th>\n    </tr>\n    <tr>\n      <th>ticker</th>\n      <th>date</th>\n      <th></th>\n    </tr>\n  </thead>\n  <tbody>\n    <tr>\n      <th rowspan=\"5\" valign=\"top\">A</th>\n      <th>2020-05-22</th>\n      <td>0.0000</td>\n    </tr>\n    <tr>\n      <th>2020-05-23</th>\n      <td>-0.3753</td>\n    </tr>\n    <tr>\n      <th>2020-05-25</th>\n      <td>0.2500</td>\n    </tr>\n    <tr>\n      <th>2020-05-27</th>\n      <td>0.0000</td>\n    </tr>\n    <tr>\n      <th>2020-05-28</th>\n      <td>0.4462</td>\n    </tr>\n  </tbody>\n</table>\n</div>"
     },
     "metadata": {},
     "execution_count": 12
    }
   ],
   "source": [
    "sentimental_summary_mean = sentimental_summary.groupby(['ticker','date']).mean()\n",
    "sentimental_summary_mean.head()"
   ]
  },
  {
   "cell_type": "code",
   "execution_count": 18,
   "metadata": {},
   "outputs": [],
   "source": [
    "sentimental_summary_mean.to_csv(os.path.join(datapath,'sentimental_analysis2.csv'))"
   ]
  },
  {
   "cell_type": "code",
   "execution_count": null,
   "metadata": {},
   "outputs": [],
   "source": []
  }
 ]
}