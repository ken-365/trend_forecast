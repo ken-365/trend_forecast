{
 "metadata": {
  "language_info": {
   "codemirror_mode": {
    "name": "ipython",
    "version": 3
   },
   "file_extension": ".py",
   "mimetype": "text/x-python",
   "name": "python",
   "nbconvert_exporter": "python",
   "pygments_lexer": "ipython3",
   "version": "3.6.5-final"
  },
  "orig_nbformat": 2,
  "kernelspec": {
   "name": "python3",
   "display_name": "Python 3.6.5 64-bit ('stock_ai': conda)",
   "metadata": {
    "interpreter": {
     "hash": "777d98fd6dac4e283b66c8c57d34f1581548f7c7d25abb5ab0884a44f3eda914"
    }
   }
  }
 },
 "nbformat": 4,
 "nbformat_minor": 2,
 "cells": [
  {
   "source": [
    "# Get stock info (HistPrice, Trend)"
   ],
   "cell_type": "markdown",
   "metadata": {}
  },
  {
   "cell_type": "code",
   "execution_count": 1,
   "metadata": {},
   "outputs": [],
   "source": [
    "import pandas as pd\n",
    "import numpy as np\n",
    "import yfinance as yf\n",
    "from datetime import datetime\n",
    "import io , os , time ,requests\n",
    "from yahoofinancials import YahooFinancials\n",
    "from time import sleep\n",
    "import json\n",
    "from finta import TA"
   ]
  },
  {
   "cell_type": "code",
   "execution_count": 3,
   "metadata": {},
   "outputs": [],
   "source": [
    "# init \n",
    "datapath = '/mnt/c/Users/poom/drive/01project/01cap_stone/04data/01stockprice'\n",
    "\n",
    "pd.set_option('display.max_rows', 500)\n",
    "pd.set_option('display.max_columns', 500)\n",
    "pd.set_option('display.width', 1000)\n",
    "\n",
    "# create list of S&P500 symbols\n",
    "symbol = pd.read_csv(os.path.join(datapath,\"sp500symbol.csv\"))\n",
    "symbol_list = symbol['Symbol'].tolist()\n",
    "\n",
    "for sym in enumerate(symbol_list):\n",
    "    if '.' in sym[1]:\n",
    "        del symbol_list[sym[0]]"
   ]
  },
  {
   "source": [
    "## Get Historical Stock Price"
   ],
   "cell_type": "markdown",
   "metadata": {}
  },
  {
   "cell_type": "code",
   "execution_count": 14,
   "metadata": {},
   "outputs": [
    {
     "output_type": "stream",
     "name": "stdout",
     "text": [
      "\n",
      "1 Failed download:\n",
      "- BRK.B: No data found, symbol may be delisted\n",
      "\n",
      "1 Failed download:\n",
      "- BF.B: No data found for this date range, symbol may be delisted\n"
     ]
    }
   ],
   "source": [
    "# create empty dataframe\n",
    "stock_final = pd.DataFrame()\n",
    "start = datetime.datetime(2015,1,1)\n",
    "end = datetime.datetime(2020,12,31)\n",
    "# iterate over each symbol\n",
    "for i in symbol_list:  \n",
    "    \n",
    "    # print the symbol which is being downloaded\n",
    "    # print( str(symbol_list.index(i)) + str(' : ') + i, sep=',', end=',', flush=True)  \n",
    "    \n",
    "    try:\n",
    "        # download the stock price \n",
    "        stock = []\n",
    "        stock = yf.download(i,start=start, end=end, progress=False)\n",
    "        \n",
    "        # append the individual stock prices \n",
    "        if len(stock) == 0:\n",
    "            None\n",
    "        else:\n",
    "            stock['Name']=i\n",
    "            stock_final = stock_final.append(stock,sort=False)\n",
    "    except Exception:\n",
    "        None"
   ]
  },
  {
   "cell_type": "code",
   "execution_count": 15,
   "metadata": {},
   "outputs": [
    {
     "output_type": "execute_result",
     "data": {
      "text/plain": [
       "                 Open       High        Low      Close  Adj Close  \\\n",
       "Date                                                                \n",
       "2014-12-31  28.205000  28.282499  27.552500  27.594999  25.137676   \n",
       "2015-01-02  27.847500  27.860001  26.837500  27.332500  24.898552   \n",
       "2015-01-05  27.072500  27.162500  26.352501  26.562500  24.197117   \n",
       "2015-01-06  26.635000  26.857500  26.157499  26.565001  24.199400   \n",
       "2015-01-07  26.799999  27.049999  26.674999  26.937500  24.538729   \n",
       "\n",
       "                 Volume  Name  \n",
       "Date                           \n",
       "2014-12-31  165613600.0  AAPL  \n",
       "2015-01-02  212818400.0  AAPL  \n",
       "2015-01-05  257142000.0  AAPL  \n",
       "2015-01-06  263188400.0  AAPL  \n",
       "2015-01-07  160423600.0  AAPL  "
      ],
      "text/html": "<div>\n<style scoped>\n    .dataframe tbody tr th:only-of-type {\n        vertical-align: middle;\n    }\n\n    .dataframe tbody tr th {\n        vertical-align: top;\n    }\n\n    .dataframe thead th {\n        text-align: right;\n    }\n</style>\n<table border=\"1\" class=\"dataframe\">\n  <thead>\n    <tr style=\"text-align: right;\">\n      <th></th>\n      <th>Open</th>\n      <th>High</th>\n      <th>Low</th>\n      <th>Close</th>\n      <th>Adj Close</th>\n      <th>Volume</th>\n      <th>Name</th>\n    </tr>\n    <tr>\n      <th>Date</th>\n      <th></th>\n      <th></th>\n      <th></th>\n      <th></th>\n      <th></th>\n      <th></th>\n      <th></th>\n    </tr>\n  </thead>\n  <tbody>\n    <tr>\n      <th>2014-12-31</th>\n      <td>28.205000</td>\n      <td>28.282499</td>\n      <td>27.552500</td>\n      <td>27.594999</td>\n      <td>25.137676</td>\n      <td>165613600.0</td>\n      <td>AAPL</td>\n    </tr>\n    <tr>\n      <th>2015-01-02</th>\n      <td>27.847500</td>\n      <td>27.860001</td>\n      <td>26.837500</td>\n      <td>27.332500</td>\n      <td>24.898552</td>\n      <td>212818400.0</td>\n      <td>AAPL</td>\n    </tr>\n    <tr>\n      <th>2015-01-05</th>\n      <td>27.072500</td>\n      <td>27.162500</td>\n      <td>26.352501</td>\n      <td>26.562500</td>\n      <td>24.197117</td>\n      <td>257142000.0</td>\n      <td>AAPL</td>\n    </tr>\n    <tr>\n      <th>2015-01-06</th>\n      <td>26.635000</td>\n      <td>26.857500</td>\n      <td>26.157499</td>\n      <td>26.565001</td>\n      <td>24.199400</td>\n      <td>263188400.0</td>\n      <td>AAPL</td>\n    </tr>\n    <tr>\n      <th>2015-01-07</th>\n      <td>26.799999</td>\n      <td>27.049999</td>\n      <td>26.674999</td>\n      <td>26.937500</td>\n      <td>24.538729</td>\n      <td>160423600.0</td>\n      <td>AAPL</td>\n    </tr>\n  </tbody>\n</table>\n</div>"
     },
     "metadata": {},
     "execution_count": 15
    }
   ],
   "source": [
    "stock_final.head()"
   ]
  },
  {
   "cell_type": "code",
   "execution_count": 18,
   "metadata": {},
   "outputs": [],
   "source": [
    "## save hist price to csv\n",
    "stock_final.to_csv(\"../04data/01stockprice/histprice.csv\")"
   ]
  },
  {
   "cell_type": "code",
   "execution_count": 26,
   "metadata": {},
   "outputs": [
    {
     "output_type": "stream",
     "name": "stdout",
     "text": [
      "number of unique stock 503\n"
     ]
    }
   ],
   "source": [
    "print(\"number of unique stock\",len(stock_final['Name'].value_counts()))"
   ]
  },
  {
   "source": [
    "## Import Industry data "
   ],
   "cell_type": "markdown",
   "metadata": {}
  },
  {
   "cell_type": "code",
   "execution_count": 29,
   "metadata": {},
   "outputs": [],
   "source": [
    "stock_final = pd.read_csv(\"../04data/01stockprice/histprice.csv\")"
   ]
  },
  {
   "cell_type": "code",
   "execution_count": 28,
   "metadata": {},
   "outputs": [
    {
     "output_type": "stream",
     "name": "stdout",
     "text": [
      "Credit Services\n"
     ]
    }
   ],
   "source": [
    "test = yf.Ticker(\"MA\")\n",
    "print(test.info['industry'])"
   ]
  },
  {
   "cell_type": "code",
   "execution_count": 55,
   "metadata": {},
   "outputs": [],
   "source": [
    "# init dict\n",
    "industry_map = {}\n",
    "count = 0\n",
    "\n",
    "for symbol in symbol_list:\n",
    "    try:\n",
    "        industry_map[symbol] = yf.Ticker(symbol).info['industry']\n",
    "    except Exception:\n",
    "        None\n",
    "    count += 1\n",
    "    if count % 40 == 0:\n",
    "      sleep(5)\n",
    "    "
   ]
  },
  {
   "cell_type": "code",
   "execution_count": 56,
   "metadata": {},
   "outputs": [],
   "source": [
    "#save industry list as json file\n",
    "import json\n",
    "with open ('industry.json','w') as fp:\n",
    "    json.dump(industry_map,fp)"
   ]
  },
  {
   "cell_type": "code",
   "execution_count": 57,
   "metadata": {},
   "outputs": [
    {
     "output_type": "execute_result",
     "data": {
      "text/plain": [
       "              Date       Open       High        Low      Close  Adj Close  \\\n",
       "39733   2017-08-03  63.209999  63.730000  63.180000  63.520000  57.245705   \n",
       "289982  2015-06-26  13.887375  14.032698  13.746594  13.864669  11.505390   \n",
       "442231  2019-04-30  94.959999  96.940002  94.779999  96.900002  91.199203   \n",
       "643668  2015-10-16  37.146667  37.599998  36.673332  37.173332  33.500481   \n",
       "619589  2016-07-01  36.919998  37.130001  36.750000  36.880001  31.700029   \n",
       "\n",
       "            Volume Name                       industry  \n",
       "39733    7018800.0  MRK     Drug Manufacturers—General  \n",
       "289982  44778900.0  HPQ              Computer Hardware  \n",
       "442231   1486400.0  ETR          Utilities—Diversified  \n",
       "643668    929100.0  WRB  Insurance—Property & Casualty  \n",
       "619589   1599000.0  UDR               REIT—Residential  "
      ],
      "text/html": "<div>\n<style scoped>\n    .dataframe tbody tr th:only-of-type {\n        vertical-align: middle;\n    }\n\n    .dataframe tbody tr th {\n        vertical-align: top;\n    }\n\n    .dataframe thead th {\n        text-align: right;\n    }\n</style>\n<table border=\"1\" class=\"dataframe\">\n  <thead>\n    <tr style=\"text-align: right;\">\n      <th></th>\n      <th>Date</th>\n      <th>Open</th>\n      <th>High</th>\n      <th>Low</th>\n      <th>Close</th>\n      <th>Adj Close</th>\n      <th>Volume</th>\n      <th>Name</th>\n      <th>industry</th>\n    </tr>\n  </thead>\n  <tbody>\n    <tr>\n      <th>39733</th>\n      <td>2017-08-03</td>\n      <td>63.209999</td>\n      <td>63.730000</td>\n      <td>63.180000</td>\n      <td>63.520000</td>\n      <td>57.245705</td>\n      <td>7018800.0</td>\n      <td>MRK</td>\n      <td>Drug Manufacturers—General</td>\n    </tr>\n    <tr>\n      <th>289982</th>\n      <td>2015-06-26</td>\n      <td>13.887375</td>\n      <td>14.032698</td>\n      <td>13.746594</td>\n      <td>13.864669</td>\n      <td>11.505390</td>\n      <td>44778900.0</td>\n      <td>HPQ</td>\n      <td>Computer Hardware</td>\n    </tr>\n    <tr>\n      <th>442231</th>\n      <td>2019-04-30</td>\n      <td>94.959999</td>\n      <td>96.940002</td>\n      <td>94.779999</td>\n      <td>96.900002</td>\n      <td>91.199203</td>\n      <td>1486400.0</td>\n      <td>ETR</td>\n      <td>Utilities—Diversified</td>\n    </tr>\n    <tr>\n      <th>643668</th>\n      <td>2015-10-16</td>\n      <td>37.146667</td>\n      <td>37.599998</td>\n      <td>36.673332</td>\n      <td>37.173332</td>\n      <td>33.500481</td>\n      <td>929100.0</td>\n      <td>WRB</td>\n      <td>Insurance—Property &amp; Casualty</td>\n    </tr>\n    <tr>\n      <th>619589</th>\n      <td>2016-07-01</td>\n      <td>36.919998</td>\n      <td>37.130001</td>\n      <td>36.750000</td>\n      <td>36.880001</td>\n      <td>31.700029</td>\n      <td>1599000.0</td>\n      <td>UDR</td>\n      <td>REIT—Residential</td>\n    </tr>\n  </tbody>\n</table>\n</div>"
     },
     "metadata": {},
     "execution_count": 57
    }
   ],
   "source": [
    "stock_final['industry'] = stock_final['Name'].map(industry_map)\n",
    "stock_final.to_csv(\"../04data/01stockprice/histprice2.csv\")\n",
    "stock_final.sample(5)"
   ]
  },
  {
   "source": [
    "## Import Google trend data"
   ],
   "cell_type": "markdown",
   "metadata": {}
  },
  {
   "cell_type": "code",
   "execution_count": 5,
   "metadata": {},
   "outputs": [],
   "source": [
    "# Import TrendReq and Setting\n",
    "from pytrends.request import TrendReq\n",
    "pytrends = TrendReq(hl='en-US', tz=360)"
   ]
  },
  {
   "cell_type": "code",
   "execution_count": 7,
   "metadata": {},
   "outputs": [
    {
     "output_type": "stream",
     "name": "stdout",
     "text": [
      "['TSLA']\n            TSLA\ndate            \n2020-08-01    65\n2020-09-01   100\n2020-10-01    48\n2020-11-01    49\n2020-12-01    75\n"
     ]
    }
   ],
   "source": [
    "# test create code for getting monthly Google Trend Data Overtime for a single stock\n",
    "kw_list = ['TSLA']\n",
    "pytrends.build_payload(kw_list, cat=0, timeframe= 'all', geo='US',gprop='')\n",
    "Tempdata = pd.DataFrame(pytrends.interest_over_time())\n",
    "Tempdata = Tempdata.drop(columns= ['isPartial'])\n",
    "print(kw_list)\n",
    "print(Tempdata.tail(5))"
   ]
  },
  {
   "cell_type": "code",
   "execution_count": 10,
   "metadata": {},
   "outputs": [],
   "source": [
    "## Monthly Google Trend Data OverTime\n",
    "\n",
    "## Create a blank dataframe with date as index for merging with data from TempData table later.\n",
    "\n",
    "kw_list = ['NONE']\n",
    "pytrends.build_payload(kw_list, cat=0, timeframe='all', geo='US', gprop='')  #'today 5-y'\n",
    "TempData = pd.DataFrame(pytrends.interest_over_time())\n",
    "GGTrendAllTimeMonthly = TempData.drop(columns=['isPartial','NONE'])\n",
    "\n",
    "\n",
    "\n",
    "## Getting 'Monthly Google Trend Data OverTime' for the first 50 stocks in StockName\n",
    "count = 0\n",
    "\n",
    "for Stock in symbol_list :\n",
    "   kw_list = [Stock]\n",
    "   pytrends.build_payload(kw_list, cat=0, timeframe='all', geo='US', gprop='')  #'today 5-y'\n",
    "   TempData = pd.DataFrame(pytrends.interest_over_time())\n",
    "   TempData = TempData.drop(columns=['isPartial'])\n",
    "   GGTrendAllTimeMonthly = pd.concat([GGTrendAllTimeMonthly, TempData], axis=1, join='inner')\n",
    "\n",
    "   count += 1\n",
    "   if count % 40 == 0:\n",
    "      sleep(20)\n",
    "#    print(kw_list)\n",
    "   #print(GGTrendAllTimeMonthly.head(2))\n",
    "   #print('------------------')"
   ]
  },
  {
   "cell_type": "code",
   "execution_count": 13,
   "metadata": {},
   "outputs": [
    {
     "output_type": "execute_result",
     "data": {
      "text/plain": [
       "             AAPL        MSFT        AMZN          FB       GOOGL        GOOG  \\\n",
       "count  204.000000  204.000000  204.000000  204.000000  204.000000  204.000000   \n",
       "mean    38.446078   22.877451   17.598039   13.975490   42.112745   37.990196   \n",
       "std     18.267364   15.216328   21.689824   19.176504   23.216947   16.840308   \n",
       "min      1.000000    7.000000    0.000000    0.000000    1.000000    3.000000   \n",
       "25%     27.000000   12.000000    4.000000    0.000000   24.750000   23.000000   \n",
       "50%     36.000000   17.000000    7.000000   10.000000   38.000000   38.000000   \n",
       "75%     49.000000   30.000000   22.000000   17.000000   60.500000   51.000000   \n",
       "max    100.000000  100.000000  100.000000  100.000000  100.000000  100.000000   \n",
       "\n",
       "             TSLA       BRK.B         JNJ         JPM  ...         UNM  \\\n",
       "count  204.000000  204.000000  204.000000  204.000000  ...  204.000000   \n",
       "mean     8.975490   21.485294   32.323529   29.480392  ...   63.823529   \n",
       "std     15.023279   14.905772   13.156251   15.596027  ...   15.097654   \n",
       "min      0.000000    0.000000    7.000000    4.000000  ...   36.000000   \n",
       "25%      0.000000   12.000000   24.000000   20.750000  ...   50.750000   \n",
       "50%      1.000000   18.000000   30.000000   26.000000  ...   63.000000   \n",
       "75%     12.000000   26.250000   38.250000   35.000000  ...   76.000000   \n",
       "max    100.000000  100.000000  100.000000  100.000000  ...  100.000000   \n",
       "\n",
       "              FOX         GPS         SLG         FTI         XRX         HFC  \\\n",
       "count  204.000000  204.000000  204.000000  204.000000  204.000000  204.000000   \n",
       "mean    49.333333   37.313725   35.808824   51.318627   33.647059   42.666667   \n",
       "std      9.214823   14.678143   17.327836   15.952869   15.518397   19.089023   \n",
       "min     32.000000   16.000000    0.000000   16.000000    0.000000   19.000000   \n",
       "25%     45.000000   26.000000   25.000000   40.750000   25.000000   28.000000   \n",
       "50%     49.000000   33.000000   32.000000   46.000000   32.000000   36.000000   \n",
       "75%     54.000000   47.000000   41.250000   59.000000   40.000000   55.250000   \n",
       "max    100.000000  100.000000  100.000000  100.000000  100.000000  100.000000   \n",
       "\n",
       "              UAA          UA         NWS  \n",
       "count  204.000000  204.000000  204.000000  \n",
       "mean    51.200980   55.980392   57.813725  \n",
       "std     17.758195   22.395012   11.469154  \n",
       "min     17.000000   23.000000   32.000000  \n",
       "25%     37.000000   37.000000   49.000000  \n",
       "50%     49.000000   50.500000   58.000000  \n",
       "75%     64.000000   80.250000   65.000000  \n",
       "max    100.000000  100.000000  100.000000  \n",
       "\n",
       "[8 rows x 505 columns]"
      ],
      "text/html": "<div>\n<style scoped>\n    .dataframe tbody tr th:only-of-type {\n        vertical-align: middle;\n    }\n\n    .dataframe tbody tr th {\n        vertical-align: top;\n    }\n\n    .dataframe thead th {\n        text-align: right;\n    }\n</style>\n<table border=\"1\" class=\"dataframe\">\n  <thead>\n    <tr style=\"text-align: right;\">\n      <th></th>\n      <th>AAPL</th>\n      <th>MSFT</th>\n      <th>AMZN</th>\n      <th>FB</th>\n      <th>GOOGL</th>\n      <th>GOOG</th>\n      <th>TSLA</th>\n      <th>BRK.B</th>\n      <th>JNJ</th>\n      <th>JPM</th>\n      <th>...</th>\n      <th>UNM</th>\n      <th>FOX</th>\n      <th>GPS</th>\n      <th>SLG</th>\n      <th>FTI</th>\n      <th>XRX</th>\n      <th>HFC</th>\n      <th>UAA</th>\n      <th>UA</th>\n      <th>NWS</th>\n    </tr>\n  </thead>\n  <tbody>\n    <tr>\n      <th>count</th>\n      <td>204.000000</td>\n      <td>204.000000</td>\n      <td>204.000000</td>\n      <td>204.000000</td>\n      <td>204.000000</td>\n      <td>204.000000</td>\n      <td>204.000000</td>\n      <td>204.000000</td>\n      <td>204.000000</td>\n      <td>204.000000</td>\n      <td>...</td>\n      <td>204.000000</td>\n      <td>204.000000</td>\n      <td>204.000000</td>\n      <td>204.000000</td>\n      <td>204.000000</td>\n      <td>204.000000</td>\n      <td>204.000000</td>\n      <td>204.000000</td>\n      <td>204.000000</td>\n      <td>204.000000</td>\n    </tr>\n    <tr>\n      <th>mean</th>\n      <td>38.446078</td>\n      <td>22.877451</td>\n      <td>17.598039</td>\n      <td>13.975490</td>\n      <td>42.112745</td>\n      <td>37.990196</td>\n      <td>8.975490</td>\n      <td>21.485294</td>\n      <td>32.323529</td>\n      <td>29.480392</td>\n      <td>...</td>\n      <td>63.823529</td>\n      <td>49.333333</td>\n      <td>37.313725</td>\n      <td>35.808824</td>\n      <td>51.318627</td>\n      <td>33.647059</td>\n      <td>42.666667</td>\n      <td>51.200980</td>\n      <td>55.980392</td>\n      <td>57.813725</td>\n    </tr>\n    <tr>\n      <th>std</th>\n      <td>18.267364</td>\n      <td>15.216328</td>\n      <td>21.689824</td>\n      <td>19.176504</td>\n      <td>23.216947</td>\n      <td>16.840308</td>\n      <td>15.023279</td>\n      <td>14.905772</td>\n      <td>13.156251</td>\n      <td>15.596027</td>\n      <td>...</td>\n      <td>15.097654</td>\n      <td>9.214823</td>\n      <td>14.678143</td>\n      <td>17.327836</td>\n      <td>15.952869</td>\n      <td>15.518397</td>\n      <td>19.089023</td>\n      <td>17.758195</td>\n      <td>22.395012</td>\n      <td>11.469154</td>\n    </tr>\n    <tr>\n      <th>min</th>\n      <td>1.000000</td>\n      <td>7.000000</td>\n      <td>0.000000</td>\n      <td>0.000000</td>\n      <td>1.000000</td>\n      <td>3.000000</td>\n      <td>0.000000</td>\n      <td>0.000000</td>\n      <td>7.000000</td>\n      <td>4.000000</td>\n      <td>...</td>\n      <td>36.000000</td>\n      <td>32.000000</td>\n      <td>16.000000</td>\n      <td>0.000000</td>\n      <td>16.000000</td>\n      <td>0.000000</td>\n      <td>19.000000</td>\n      <td>17.000000</td>\n      <td>23.000000</td>\n      <td>32.000000</td>\n    </tr>\n    <tr>\n      <th>25%</th>\n      <td>27.000000</td>\n      <td>12.000000</td>\n      <td>4.000000</td>\n      <td>0.000000</td>\n      <td>24.750000</td>\n      <td>23.000000</td>\n      <td>0.000000</td>\n      <td>12.000000</td>\n      <td>24.000000</td>\n      <td>20.750000</td>\n      <td>...</td>\n      <td>50.750000</td>\n      <td>45.000000</td>\n      <td>26.000000</td>\n      <td>25.000000</td>\n      <td>40.750000</td>\n      <td>25.000000</td>\n      <td>28.000000</td>\n      <td>37.000000</td>\n      <td>37.000000</td>\n      <td>49.000000</td>\n    </tr>\n    <tr>\n      <th>50%</th>\n      <td>36.000000</td>\n      <td>17.000000</td>\n      <td>7.000000</td>\n      <td>10.000000</td>\n      <td>38.000000</td>\n      <td>38.000000</td>\n      <td>1.000000</td>\n      <td>18.000000</td>\n      <td>30.000000</td>\n      <td>26.000000</td>\n      <td>...</td>\n      <td>63.000000</td>\n      <td>49.000000</td>\n      <td>33.000000</td>\n      <td>32.000000</td>\n      <td>46.000000</td>\n      <td>32.000000</td>\n      <td>36.000000</td>\n      <td>49.000000</td>\n      <td>50.500000</td>\n      <td>58.000000</td>\n    </tr>\n    <tr>\n      <th>75%</th>\n      <td>49.000000</td>\n      <td>30.000000</td>\n      <td>22.000000</td>\n      <td>17.000000</td>\n      <td>60.500000</td>\n      <td>51.000000</td>\n      <td>12.000000</td>\n      <td>26.250000</td>\n      <td>38.250000</td>\n      <td>35.000000</td>\n      <td>...</td>\n      <td>76.000000</td>\n      <td>54.000000</td>\n      <td>47.000000</td>\n      <td>41.250000</td>\n      <td>59.000000</td>\n      <td>40.000000</td>\n      <td>55.250000</td>\n      <td>64.000000</td>\n      <td>80.250000</td>\n      <td>65.000000</td>\n    </tr>\n    <tr>\n      <th>max</th>\n      <td>100.000000</td>\n      <td>100.000000</td>\n      <td>100.000000</td>\n      <td>100.000000</td>\n      <td>100.000000</td>\n      <td>100.000000</td>\n      <td>100.000000</td>\n      <td>100.000000</td>\n      <td>100.000000</td>\n      <td>100.000000</td>\n      <td>...</td>\n      <td>100.000000</td>\n      <td>100.000000</td>\n      <td>100.000000</td>\n      <td>100.000000</td>\n      <td>100.000000</td>\n      <td>100.000000</td>\n      <td>100.000000</td>\n      <td>100.000000</td>\n      <td>100.000000</td>\n      <td>100.000000</td>\n    </tr>\n  </tbody>\n</table>\n<p>8 rows × 505 columns</p>\n</div>"
     },
     "metadata": {},
     "execution_count": 13
    }
   ],
   "source": [
    "GGTrendAllTimeMonthly.describe()"
   ]
  },
  {
   "source": [
    "## Melting / Unpivot the Dataframe"
   ],
   "cell_type": "markdown",
   "metadata": {}
  },
  {
   "cell_type": "code",
   "execution_count": 60,
   "metadata": {},
   "outputs": [
    {
     "output_type": "execute_result",
     "data": {
      "text/plain": [
       "            date Name  GGTrendAllTimeMonthly\n",
       "70675 2011-08-01  AES                     59\n",
       "37141 2005-02-01   TT                     81\n",
       "18401 2007-06-01  AXP                     27\n",
       "88406 2010-03-01  BWA                     38"
      ],
      "text/html": "<div>\n<style scoped>\n    .dataframe tbody tr th:only-of-type {\n        vertical-align: middle;\n    }\n\n    .dataframe tbody tr th {\n        vertical-align: top;\n    }\n\n    .dataframe thead th {\n        text-align: right;\n    }\n</style>\n<table border=\"1\" class=\"dataframe\">\n  <thead>\n    <tr style=\"text-align: right;\">\n      <th></th>\n      <th>date</th>\n      <th>Name</th>\n      <th>GGTrendAllTimeMonthly</th>\n    </tr>\n  </thead>\n  <tbody>\n    <tr>\n      <th>70675</th>\n      <td>2011-08-01</td>\n      <td>AES</td>\n      <td>59</td>\n    </tr>\n    <tr>\n      <th>37141</th>\n      <td>2005-02-01</td>\n      <td>TT</td>\n      <td>81</td>\n    </tr>\n    <tr>\n      <th>18401</th>\n      <td>2007-06-01</td>\n      <td>AXP</td>\n      <td>27</td>\n    </tr>\n    <tr>\n      <th>88406</th>\n      <td>2010-03-01</td>\n      <td>BWA</td>\n      <td>38</td>\n    </tr>\n  </tbody>\n</table>\n</div>"
     },
     "metadata": {},
     "execution_count": 60
    }
   ],
   "source": [
    "GGTrendAllTimeMonthlyData = pd.melt(GGTrendAllTimeMonthly, id_vars=['date'], var_name = 'Name', value_name = 'GGTrendAllTimeMonthly') #value_vars=[StockName]\n",
    "GGTrendAllTimeMonthlyData.sample(4)"
   ]
  },
  {
   "cell_type": "code",
   "execution_count": 62,
   "metadata": {},
   "outputs": [],
   "source": [
    "GGTrendAllTimeMonthlyData.to_csv(\"../04data/01stockprice/GGTrendAllTimeMonthly.csv\")"
   ]
  },
  {
   "source": [
    "## Download All General Data"
   ],
   "cell_type": "markdown",
   "metadata": {}
  },
  {
   "cell_type": "code",
   "execution_count": 7,
   "metadata": {},
   "outputs": [
    {
     "output_type": "execute_result",
     "data": {
      "text/plain": [
       "'/mnt/c/Users/poom/drive/01project/01cap_stone/04data/01stockprice/01world_indices'"
      ]
     },
     "metadata": {},
     "execution_count": 7
    }
   ],
   "source": [
    "#change directory\n",
    "os.chdir(os.path.join(datapath,\"01world_indices\"))\n",
    "os.getcwd()"
   ]
  },
  {
   "cell_type": "code",
   "execution_count": 73,
   "metadata": {},
   "outputs": [
    {
     "output_type": "execute_result",
     "data": {
      "text/plain": [
       "        Date  d_Year  d_Month  d_Date  d_FirstDayOfMonth  d_DayInWeek  \\\n",
       "0 2014-12-31    2014       12      31                  0            2   \n",
       "1 2015-01-01    2015        1       1                  1            3   \n",
       "2 2015-01-02    2015        1       2                  0            4   \n",
       "3 2015-01-03    2015        1       3                  0            5   \n",
       "\n",
       "   d_WeekInMonth  d_WeekInYear  \n",
       "0              1             1  \n",
       "1              1             1  \n",
       "2              1             1  \n",
       "3              1             1  "
      ],
      "text/html": "<div>\n<style scoped>\n    .dataframe tbody tr th:only-of-type {\n        vertical-align: middle;\n    }\n\n    .dataframe tbody tr th {\n        vertical-align: top;\n    }\n\n    .dataframe thead th {\n        text-align: right;\n    }\n</style>\n<table border=\"1\" class=\"dataframe\">\n  <thead>\n    <tr style=\"text-align: right;\">\n      <th></th>\n      <th>Date</th>\n      <th>d_Year</th>\n      <th>d_Month</th>\n      <th>d_Date</th>\n      <th>d_FirstDayOfMonth</th>\n      <th>d_DayInWeek</th>\n      <th>d_WeekInMonth</th>\n      <th>d_WeekInYear</th>\n    </tr>\n  </thead>\n  <tbody>\n    <tr>\n      <th>0</th>\n      <td>2014-12-31</td>\n      <td>2014</td>\n      <td>12</td>\n      <td>31</td>\n      <td>0</td>\n      <td>2</td>\n      <td>1</td>\n      <td>1</td>\n    </tr>\n    <tr>\n      <th>1</th>\n      <td>2015-01-01</td>\n      <td>2015</td>\n      <td>1</td>\n      <td>1</td>\n      <td>1</td>\n      <td>3</td>\n      <td>1</td>\n      <td>1</td>\n    </tr>\n    <tr>\n      <th>2</th>\n      <td>2015-01-02</td>\n      <td>2015</td>\n      <td>1</td>\n      <td>2</td>\n      <td>0</td>\n      <td>4</td>\n      <td>1</td>\n      <td>1</td>\n    </tr>\n    <tr>\n      <th>3</th>\n      <td>2015-01-03</td>\n      <td>2015</td>\n      <td>1</td>\n      <td>3</td>\n      <td>0</td>\n      <td>5</td>\n      <td>1</td>\n      <td>1</td>\n    </tr>\n  </tbody>\n</table>\n</div>"
     },
     "metadata": {},
     "execution_count": 73
    }
   ],
   "source": [
    "General_data = pd.date_range('2014-12-31','2020-12-28')\n",
    "General_data = pd.DataFrame({\"Date\" :General_data\n",
    "                            ,\"d_Year\" :General_data.year\n",
    "                            ,\"d_Month\":General_data.month\n",
    "                            ,\"d_Date\" :General_data.day\n",
    "                            ,\"d_FirstDayOfMonth\":General_data.is_month_start.astype('int')\n",
    "                            ,\"d_DayInWeek\":General_data.dayofweek\n",
    "                            ,\"d_WeekInMonth\":General_data.week\n",
    "                            ,\"d_WeekInYear\": General_data.weekofyear })\n",
    "General_data.head(4)"
   ]
  },
  {
   "cell_type": "code",
   "execution_count": 74,
   "metadata": {},
   "outputs": [
    {
     "output_type": "stream",
     "name": "stdout",
     "text": [
      "<class 'pandas.core.frame.DataFrame'>\nRangeIndex: 2190 entries, 0 to 2189\nData columns (total 8 columns):\n #   Column             Non-Null Count  Dtype \n---  ------             --------------  ----- \n 0   Date               2190 non-null   object\n 1   d_Year             2190 non-null   int64 \n 2   d_Month            2190 non-null   int64 \n 3   d_Date             2190 non-null   int64 \n 4   d_FirstDayOfMonth  2190 non-null   int64 \n 5   d_DayInWeek        2190 non-null   int64 \n 6   d_WeekInMonth      2190 non-null   int64 \n 7   d_WeekInYear       2190 non-null   int64 \ndtypes: int64(7), object(1)\nmemory usage: 137.0+ KB\n"
     ]
    }
   ],
   "source": [
    "General_data.Date = General_data.Date.astype('str').str.split(' ').str[0]\n",
    "General_data.info()"
   ]
  },
  {
   "cell_type": "code",
   "execution_count": 75,
   "metadata": {},
   "outputs": [
    {
     "output_type": "execute_result",
     "data": {
      "text/plain": [
       "         Date  d_Year  d_Month  d_Date  d_FirstDayOfMonth  d_DayInWeek  \\\n",
       "0  2015-01-05    2015        1       5                  0            0   \n",
       "1  2015-01-06    2015        1       6                  0            1   \n",
       "2  2015-01-07    2015        1       7                  0            2   \n",
       "3  2015-01-08    2015        1       8                  0            3   \n",
       "4  2015-01-09    2015        1       9                  0            4   \n",
       "\n",
       "   d_WeekInMonth  d_WeekInYear   COILOpen   COILHigh  ...     SP500Low  \\\n",
       "0              2             2  52.610001  52.730000  ...  2017.339966   \n",
       "1              2             2  50.000000  50.369999  ...  1992.439941   \n",
       "2              2             2  48.000000  49.310001  ...  2005.550049   \n",
       "3              2             2  48.779999  49.650002  ...  2030.609985   \n",
       "4              2             2  48.919998  49.610001  ...  2038.329956   \n",
       "\n",
       "    SP500Close  SP500Adj Close  SP500Volume  USDCNYOpen  USDCNYHigh  \\\n",
       "0  2020.579956     2020.579956   3799120000      6.1961      6.2090   \n",
       "1  2002.609985     2002.609985   4460110000      6.2084      6.2084   \n",
       "2  2025.900024     2025.900024   3805480000      6.2020      6.2040   \n",
       "3  2062.139893     2062.139893   3934010000      6.2040      6.2102   \n",
       "4  2044.810059     2044.810059   3364140000      6.2035      6.2035   \n",
       "\n",
       "   USDCNYLow  USDCNYClose  USDCNYAdj Close  USDCNYVolume  \n",
       "0     6.1961       6.1961           6.1961           0.0  \n",
       "1     6.1988       6.2084           6.2084           0.0  \n",
       "2     6.1976       6.2020           6.2020           0.0  \n",
       "3     6.2035       6.2040           6.2040           0.0  \n",
       "4     6.1972       6.2035           6.2035           0.0  \n",
       "\n",
       "[5 rows x 74 columns]"
      ],
      "text/html": "<div>\n<style scoped>\n    .dataframe tbody tr th:only-of-type {\n        vertical-align: middle;\n    }\n\n    .dataframe tbody tr th {\n        vertical-align: top;\n    }\n\n    .dataframe thead th {\n        text-align: right;\n    }\n</style>\n<table border=\"1\" class=\"dataframe\">\n  <thead>\n    <tr style=\"text-align: right;\">\n      <th></th>\n      <th>Date</th>\n      <th>d_Year</th>\n      <th>d_Month</th>\n      <th>d_Date</th>\n      <th>d_FirstDayOfMonth</th>\n      <th>d_DayInWeek</th>\n      <th>d_WeekInMonth</th>\n      <th>d_WeekInYear</th>\n      <th>COILOpen</th>\n      <th>COILHigh</th>\n      <th>...</th>\n      <th>SP500Low</th>\n      <th>SP500Close</th>\n      <th>SP500Adj Close</th>\n      <th>SP500Volume</th>\n      <th>USDCNYOpen</th>\n      <th>USDCNYHigh</th>\n      <th>USDCNYLow</th>\n      <th>USDCNYClose</th>\n      <th>USDCNYAdj Close</th>\n      <th>USDCNYVolume</th>\n    </tr>\n  </thead>\n  <tbody>\n    <tr>\n      <th>0</th>\n      <td>2015-01-05</td>\n      <td>2015</td>\n      <td>1</td>\n      <td>5</td>\n      <td>0</td>\n      <td>0</td>\n      <td>2</td>\n      <td>2</td>\n      <td>52.610001</td>\n      <td>52.730000</td>\n      <td>...</td>\n      <td>2017.339966</td>\n      <td>2020.579956</td>\n      <td>2020.579956</td>\n      <td>3799120000</td>\n      <td>6.1961</td>\n      <td>6.2090</td>\n      <td>6.1961</td>\n      <td>6.1961</td>\n      <td>6.1961</td>\n      <td>0.0</td>\n    </tr>\n    <tr>\n      <th>1</th>\n      <td>2015-01-06</td>\n      <td>2015</td>\n      <td>1</td>\n      <td>6</td>\n      <td>0</td>\n      <td>1</td>\n      <td>2</td>\n      <td>2</td>\n      <td>50.000000</td>\n      <td>50.369999</td>\n      <td>...</td>\n      <td>1992.439941</td>\n      <td>2002.609985</td>\n      <td>2002.609985</td>\n      <td>4460110000</td>\n      <td>6.2084</td>\n      <td>6.2084</td>\n      <td>6.1988</td>\n      <td>6.2084</td>\n      <td>6.2084</td>\n      <td>0.0</td>\n    </tr>\n    <tr>\n      <th>2</th>\n      <td>2015-01-07</td>\n      <td>2015</td>\n      <td>1</td>\n      <td>7</td>\n      <td>0</td>\n      <td>2</td>\n      <td>2</td>\n      <td>2</td>\n      <td>48.000000</td>\n      <td>49.310001</td>\n      <td>...</td>\n      <td>2005.550049</td>\n      <td>2025.900024</td>\n      <td>2025.900024</td>\n      <td>3805480000</td>\n      <td>6.2020</td>\n      <td>6.2040</td>\n      <td>6.1976</td>\n      <td>6.2020</td>\n      <td>6.2020</td>\n      <td>0.0</td>\n    </tr>\n    <tr>\n      <th>3</th>\n      <td>2015-01-08</td>\n      <td>2015</td>\n      <td>1</td>\n      <td>8</td>\n      <td>0</td>\n      <td>3</td>\n      <td>2</td>\n      <td>2</td>\n      <td>48.779999</td>\n      <td>49.650002</td>\n      <td>...</td>\n      <td>2030.609985</td>\n      <td>2062.139893</td>\n      <td>2062.139893</td>\n      <td>3934010000</td>\n      <td>6.2040</td>\n      <td>6.2102</td>\n      <td>6.2035</td>\n      <td>6.2040</td>\n      <td>6.2040</td>\n      <td>0.0</td>\n    </tr>\n    <tr>\n      <th>4</th>\n      <td>2015-01-09</td>\n      <td>2015</td>\n      <td>1</td>\n      <td>9</td>\n      <td>0</td>\n      <td>4</td>\n      <td>2</td>\n      <td>2</td>\n      <td>48.919998</td>\n      <td>49.610001</td>\n      <td>...</td>\n      <td>2038.329956</td>\n      <td>2044.810059</td>\n      <td>2044.810059</td>\n      <td>3364140000</td>\n      <td>6.2035</td>\n      <td>6.2035</td>\n      <td>6.1972</td>\n      <td>6.2035</td>\n      <td>6.2035</td>\n      <td>0.0</td>\n    </tr>\n  </tbody>\n</table>\n<p>5 rows × 74 columns</p>\n</div>"
     },
     "metadata": {},
     "execution_count": 75
    }
   ],
   "source": [
    "# get each file name\n",
    "filelist = os.listdir().copy()\n",
    "name_filelist = np.array([name.split('.') for name in filelist])[:,0]\n",
    "\n",
    "for File in filelist:\n",
    "    TempData = pd.read_csv(File)\n",
    "    TempData.columns = File.split('.')[0] +TempData.columns\n",
    "    General_data = pd.merge(General_data,TempData, left_on= \"Date\", right_on= File.split('.')[0]+\"Date\" )\n",
    "    General_data = General_data.drop(File.split('.')[0]+\"Date\", 1 )\n",
    "General_data.head()"
   ]
  },
  {
   "cell_type": "code",
   "execution_count": 82,
   "metadata": {},
   "outputs": [
    {
     "output_type": "execute_result",
     "data": {
      "text/plain": [
       "402"
      ]
     },
     "metadata": {},
     "execution_count": 82
    }
   ],
   "source": [
    "# na \n",
    "General_data.isna().sum().sum()\n",
    "# Fill NaN by using 'Forward Fill' since all columns with blanks are time series data\n",
    "# Filling the NaN data with the data in previous record might be the most appropriate way\n"
   ]
  },
  {
   "source": [
    "General_data = General_data.fillna(method = 'ffill', axis = 0 , limit = None)\n",
    "# na \n",
    "General_data.isna().sum().sum()"
   ],
   "cell_type": "code",
   "metadata": {},
   "execution_count": 83,
   "outputs": [
    {
     "output_type": "execute_result",
     "data": {
      "text/plain": [
       "0"
      ]
     },
     "metadata": {},
     "execution_count": 83
    }
   ]
  },
  {
   "cell_type": "code",
   "execution_count": 84,
   "metadata": {},
   "outputs": [],
   "source": [
    "General_data.to_csv('../General_data.csv')"
   ]
  },
  {
   "source": [
    "## Download Financial indicator :"
   ],
   "cell_type": "markdown",
   "metadata": {}
  },
  {
   "cell_type": "code",
   "execution_count": 2,
   "metadata": {},
   "outputs": [],
   "source": [
    "# List of symbols for technical indicators\n",
    "INDICATORS = ['RSI','STOCH','CCI','ADX','AO','MOM','MACD','STOCHRSI','WILLIAMS','EBBP', 'UO']\n",
    "\n"
   ]
  },
  {
   "cell_type": "code",
   "execution_count": 5,
   "metadata": {},
   "outputs": [],
   "source": [
    "datapath = '/mnt/c/Users/poom/drive/01project/01cap_stone/04data/01stockprice'\n",
    "stock_final = pd.read_csv(os.path.join(datapath,'histprice2.csv'))"
   ]
  },
  {
   "cell_type": "code",
   "execution_count": null,
   "metadata": {},
   "outputs": [],
   "source": [
    "stock_final.head()"
   ]
  },
  {
   "cell_type": "code",
   "execution_count": 14,
   "metadata": {},
   "outputs": [],
   "source": [
    "import datetime\n",
    "def stock_retrived(quote, n, inv):\n",
    "  start = (datetime.date.today() - datetime.timedelta(n) )\n",
    "  end = datetime.datetime.today() \n",
    "\n",
    "  # auto_adjust = auto adjusted price for OHLC \n",
    "  df = yf.download(quote, start=start, end=end, interval=inv, auto_adjust = True)\n",
    "\n",
    "  df.columns = df.columns.str.lower()\n",
    "  #print(data.head())\n",
    "\n",
    "  # plot for previous 500 business days of adjusted 'OPEN' price \n",
    "  #tmp = df.iloc[-500:]\n",
    "  #tmp['open'].plot()\n",
    "\n",
    "  return df\n",
    "\n",
    "#data = stock_retrived(\"AOT.BK\", NUM_DAYS, INTERVAL)"
   ]
  },
  {
   "cell_type": "code",
   "execution_count": 16,
   "metadata": {},
   "outputs": [
    {
     "output_type": "stream",
     "name": "stdout",
     "text": [
      "[*********************100%***********************]  1 of 1 completed\n"
     ]
    }
   ],
   "source": [
    "df = stock_retrived('TSLA',30,'1d')"
   ]
  },
  {
   "cell_type": "code",
   "execution_count": 17,
   "metadata": {},
   "outputs": [
    {
     "output_type": "execute_result",
     "data": {
      "text/plain": [
       "                  open        high         low       close     volume\n",
       "Date                                                                 \n",
       "2020-11-30  602.210022  607.799988  554.510010  567.599976   63003100\n",
       "2020-12-01  597.590027  597.849976  572.049988  584.760010   40382800\n",
       "2020-12-02  556.440002  571.539978  541.210022  568.820007   47775700\n",
       "2020-12-03  590.020020  598.969971  582.429993  593.380005   42552000\n",
       "2020-12-04  591.010010  599.039978  585.500000  599.039978   29401300\n",
       "2020-12-07  604.919983  648.789978  603.049988  641.760010   56309700\n",
       "2020-12-08  625.510010  651.280029  618.500000  649.880005   64265000\n",
       "2020-12-09  653.690002  654.320007  588.000000  604.479980   71291200\n",
       "2020-12-10  574.369995  627.750000  566.340027  627.070007   67083200\n",
       "2020-12-11  615.010010  624.000000  596.799988  609.989990   46475000\n",
       "2020-12-14  619.000000  642.750000  610.200012  639.830017   52040600\n",
       "2020-12-15  643.280029  646.900024  623.799988  633.250000   45223600\n",
       "2020-12-16  628.229980  632.500000  605.000000  622.770020   42095800\n",
       "2020-12-17  628.190002  658.820007  619.500000  655.900024   56270100\n",
       "2020-12-18  668.900024  695.000000  628.539978  695.000000  222126200\n",
       "2020-12-21  666.239990  668.500000  646.070007  649.859985   58045300\n",
       "2020-12-22  648.000000  649.880005  614.229980  640.340027   51716000\n",
       "2020-12-23  632.200012  651.500000  622.570007  645.979980   33173000\n",
       "2020-12-24  642.989990  666.090027  641.000000  661.770020   22865600\n",
       "2020-12-28  674.510010  681.400024  660.799988  663.690002   32133700"
      ],
      "text/html": "<div>\n<style scoped>\n    .dataframe tbody tr th:only-of-type {\n        vertical-align: middle;\n    }\n\n    .dataframe tbody tr th {\n        vertical-align: top;\n    }\n\n    .dataframe thead th {\n        text-align: right;\n    }\n</style>\n<table border=\"1\" class=\"dataframe\">\n  <thead>\n    <tr style=\"text-align: right;\">\n      <th></th>\n      <th>open</th>\n      <th>high</th>\n      <th>low</th>\n      <th>close</th>\n      <th>volume</th>\n    </tr>\n    <tr>\n      <th>Date</th>\n      <th></th>\n      <th></th>\n      <th></th>\n      <th></th>\n      <th></th>\n    </tr>\n  </thead>\n  <tbody>\n    <tr>\n      <th>2020-11-30</th>\n      <td>602.210022</td>\n      <td>607.799988</td>\n      <td>554.510010</td>\n      <td>567.599976</td>\n      <td>63003100</td>\n    </tr>\n    <tr>\n      <th>2020-12-01</th>\n      <td>597.590027</td>\n      <td>597.849976</td>\n      <td>572.049988</td>\n      <td>584.760010</td>\n      <td>40382800</td>\n    </tr>\n    <tr>\n      <th>2020-12-02</th>\n      <td>556.440002</td>\n      <td>571.539978</td>\n      <td>541.210022</td>\n      <td>568.820007</td>\n      <td>47775700</td>\n    </tr>\n    <tr>\n      <th>2020-12-03</th>\n      <td>590.020020</td>\n      <td>598.969971</td>\n      <td>582.429993</td>\n      <td>593.380005</td>\n      <td>42552000</td>\n    </tr>\n    <tr>\n      <th>2020-12-04</th>\n      <td>591.010010</td>\n      <td>599.039978</td>\n      <td>585.500000</td>\n      <td>599.039978</td>\n      <td>29401300</td>\n    </tr>\n    <tr>\n      <th>2020-12-07</th>\n      <td>604.919983</td>\n      <td>648.789978</td>\n      <td>603.049988</td>\n      <td>641.760010</td>\n      <td>56309700</td>\n    </tr>\n    <tr>\n      <th>2020-12-08</th>\n      <td>625.510010</td>\n      <td>651.280029</td>\n      <td>618.500000</td>\n      <td>649.880005</td>\n      <td>64265000</td>\n    </tr>\n    <tr>\n      <th>2020-12-09</th>\n      <td>653.690002</td>\n      <td>654.320007</td>\n      <td>588.000000</td>\n      <td>604.479980</td>\n      <td>71291200</td>\n    </tr>\n    <tr>\n      <th>2020-12-10</th>\n      <td>574.369995</td>\n      <td>627.750000</td>\n      <td>566.340027</td>\n      <td>627.070007</td>\n      <td>67083200</td>\n    </tr>\n    <tr>\n      <th>2020-12-11</th>\n      <td>615.010010</td>\n      <td>624.000000</td>\n      <td>596.799988</td>\n      <td>609.989990</td>\n      <td>46475000</td>\n    </tr>\n    <tr>\n      <th>2020-12-14</th>\n      <td>619.000000</td>\n      <td>642.750000</td>\n      <td>610.200012</td>\n      <td>639.830017</td>\n      <td>52040600</td>\n    </tr>\n    <tr>\n      <th>2020-12-15</th>\n      <td>643.280029</td>\n      <td>646.900024</td>\n      <td>623.799988</td>\n      <td>633.250000</td>\n      <td>45223600</td>\n    </tr>\n    <tr>\n      <th>2020-12-16</th>\n      <td>628.229980</td>\n      <td>632.500000</td>\n      <td>605.000000</td>\n      <td>622.770020</td>\n      <td>42095800</td>\n    </tr>\n    <tr>\n      <th>2020-12-17</th>\n      <td>628.190002</td>\n      <td>658.820007</td>\n      <td>619.500000</td>\n      <td>655.900024</td>\n      <td>56270100</td>\n    </tr>\n    <tr>\n      <th>2020-12-18</th>\n      <td>668.900024</td>\n      <td>695.000000</td>\n      <td>628.539978</td>\n      <td>695.000000</td>\n      <td>222126200</td>\n    </tr>\n    <tr>\n      <th>2020-12-21</th>\n      <td>666.239990</td>\n      <td>668.500000</td>\n      <td>646.070007</td>\n      <td>649.859985</td>\n      <td>58045300</td>\n    </tr>\n    <tr>\n      <th>2020-12-22</th>\n      <td>648.000000</td>\n      <td>649.880005</td>\n      <td>614.229980</td>\n      <td>640.340027</td>\n      <td>51716000</td>\n    </tr>\n    <tr>\n      <th>2020-12-23</th>\n      <td>632.200012</td>\n      <td>651.500000</td>\n      <td>622.570007</td>\n      <td>645.979980</td>\n      <td>33173000</td>\n    </tr>\n    <tr>\n      <th>2020-12-24</th>\n      <td>642.989990</td>\n      <td>666.090027</td>\n      <td>641.000000</td>\n      <td>661.770020</td>\n      <td>22865600</td>\n    </tr>\n    <tr>\n      <th>2020-12-28</th>\n      <td>674.510010</td>\n      <td>681.400024</td>\n      <td>660.799988</td>\n      <td>663.690002</td>\n      <td>32133700</td>\n    </tr>\n  </tbody>\n</table>\n</div>"
     },
     "metadata": {},
     "execution_count": 17
    }
   ],
   "source": [
    "df"
   ]
  },
  {
   "cell_type": "code",
   "execution_count": null,
   "metadata": {},
   "outputs": [],
   "source": []
  },
  {
   "cell_type": "code",
   "execution_count": null,
   "metadata": {},
   "outputs": [],
   "source": []
  },
  {
   "cell_type": "code",
   "execution_count": null,
   "metadata": {},
   "outputs": [],
   "source": []
  },
  {
   "cell_type": "code",
   "execution_count": null,
   "metadata": {},
   "outputs": [],
   "source": []
  },
  {
   "cell_type": "code",
   "execution_count": null,
   "metadata": {},
   "outputs": [],
   "source": []
  }
 ]
}