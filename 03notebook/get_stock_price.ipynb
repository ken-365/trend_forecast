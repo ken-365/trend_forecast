{
 "metadata": {
  "language_info": {
   "codemirror_mode": {
    "name": "ipython",
    "version": 3
   },
   "file_extension": ".py",
   "mimetype": "text/x-python",
   "name": "python",
   "nbconvert_exporter": "python",
   "pygments_lexer": "ipython3",
   "version": "3.6.5-final"
  },
  "orig_nbformat": 2,
  "kernelspec": {
   "name": "python3",
   "display_name": "Python 3.6.5 64-bit ('stock_ai': conda)",
   "metadata": {
    "interpreter": {
     "hash": "777d98fd6dac4e283b66c8c57d34f1581548f7c7d25abb5ab0884a44f3eda914"
    }
   }
  }
 },
 "nbformat": 4,
 "nbformat_minor": 2,
 "cells": [
  {
   "source": [
    "# Get stock info (HistPrice, Trend)"
   ],
   "cell_type": "markdown",
   "metadata": {}
  },
  {
   "cell_type": "code",
   "execution_count": 1,
   "metadata": {},
   "outputs": [],
   "source": [
    "import pandas as pd\n",
    "import numpy as np\n",
    "import yfinance as yf\n",
    "import datetime\n",
    "import time\n",
    "import requests\n",
    "import io\n",
    "from yahoofinancials import YahooFinancials"
   ]
  },
  {
   "cell_type": "code",
   "execution_count": 2,
   "metadata": {},
   "outputs": [],
   "source": [
    "# create list of S&P500 symbols\n",
    "symbol = pd.read_csv(\"../04data/01stockprice/sp500symbol.csv\")\n",
    "symbol_list = symbol['Symbol'].tolist()"
   ]
  },
  {
   "source": [
    "## Get HistPrice"
   ],
   "cell_type": "markdown",
   "metadata": {}
  },
  {
   "cell_type": "code",
   "execution_count": 14,
   "metadata": {},
   "outputs": [
    {
     "output_type": "stream",
     "name": "stdout",
     "text": [
      "\n",
      "1 Failed download:\n",
      "- BRK.B: No data found, symbol may be delisted\n",
      "\n",
      "1 Failed download:\n",
      "- BF.B: No data found for this date range, symbol may be delisted\n"
     ]
    }
   ],
   "source": [
    "# create empty dataframe\n",
    "stock_final = pd.DataFrame()\n",
    "start = datetime.datetime(2015,1,1)\n",
    "end = datetime.datetime(2020,12,31)\n",
    "# iterate over each symbol\n",
    "for i in symbol_list:  \n",
    "    \n",
    "    # print the symbol which is being downloaded\n",
    "    # print( str(symbol_list.index(i)) + str(' : ') + i, sep=',', end=',', flush=True)  \n",
    "    \n",
    "    try:\n",
    "        # download the stock price \n",
    "        stock = []\n",
    "        stock = yf.download(i,start=start, end=end, progress=False)\n",
    "        \n",
    "        # append the individual stock prices \n",
    "        if len(stock) == 0:\n",
    "            None\n",
    "        else:\n",
    "            stock['Name']=i\n",
    "            stock_final = stock_final.append(stock,sort=False)\n",
    "    except Exception:\n",
    "        None"
   ]
  },
  {
   "cell_type": "code",
   "execution_count": 15,
   "metadata": {},
   "outputs": [
    {
     "output_type": "execute_result",
     "data": {
      "text/plain": [
       "                 Open       High        Low      Close  Adj Close  \\\n",
       "Date                                                                \n",
       "2014-12-31  28.205000  28.282499  27.552500  27.594999  25.137676   \n",
       "2015-01-02  27.847500  27.860001  26.837500  27.332500  24.898552   \n",
       "2015-01-05  27.072500  27.162500  26.352501  26.562500  24.197117   \n",
       "2015-01-06  26.635000  26.857500  26.157499  26.565001  24.199400   \n",
       "2015-01-07  26.799999  27.049999  26.674999  26.937500  24.538729   \n",
       "\n",
       "                 Volume  Name  \n",
       "Date                           \n",
       "2014-12-31  165613600.0  AAPL  \n",
       "2015-01-02  212818400.0  AAPL  \n",
       "2015-01-05  257142000.0  AAPL  \n",
       "2015-01-06  263188400.0  AAPL  \n",
       "2015-01-07  160423600.0  AAPL  "
      ],
      "text/html": "<div>\n<style scoped>\n    .dataframe tbody tr th:only-of-type {\n        vertical-align: middle;\n    }\n\n    .dataframe tbody tr th {\n        vertical-align: top;\n    }\n\n    .dataframe thead th {\n        text-align: right;\n    }\n</style>\n<table border=\"1\" class=\"dataframe\">\n  <thead>\n    <tr style=\"text-align: right;\">\n      <th></th>\n      <th>Open</th>\n      <th>High</th>\n      <th>Low</th>\n      <th>Close</th>\n      <th>Adj Close</th>\n      <th>Volume</th>\n      <th>Name</th>\n    </tr>\n    <tr>\n      <th>Date</th>\n      <th></th>\n      <th></th>\n      <th></th>\n      <th></th>\n      <th></th>\n      <th></th>\n      <th></th>\n    </tr>\n  </thead>\n  <tbody>\n    <tr>\n      <th>2014-12-31</th>\n      <td>28.205000</td>\n      <td>28.282499</td>\n      <td>27.552500</td>\n      <td>27.594999</td>\n      <td>25.137676</td>\n      <td>165613600.0</td>\n      <td>AAPL</td>\n    </tr>\n    <tr>\n      <th>2015-01-02</th>\n      <td>27.847500</td>\n      <td>27.860001</td>\n      <td>26.837500</td>\n      <td>27.332500</td>\n      <td>24.898552</td>\n      <td>212818400.0</td>\n      <td>AAPL</td>\n    </tr>\n    <tr>\n      <th>2015-01-05</th>\n      <td>27.072500</td>\n      <td>27.162500</td>\n      <td>26.352501</td>\n      <td>26.562500</td>\n      <td>24.197117</td>\n      <td>257142000.0</td>\n      <td>AAPL</td>\n    </tr>\n    <tr>\n      <th>2015-01-06</th>\n      <td>26.635000</td>\n      <td>26.857500</td>\n      <td>26.157499</td>\n      <td>26.565001</td>\n      <td>24.199400</td>\n      <td>263188400.0</td>\n      <td>AAPL</td>\n    </tr>\n    <tr>\n      <th>2015-01-07</th>\n      <td>26.799999</td>\n      <td>27.049999</td>\n      <td>26.674999</td>\n      <td>26.937500</td>\n      <td>24.538729</td>\n      <td>160423600.0</td>\n      <td>AAPL</td>\n    </tr>\n  </tbody>\n</table>\n</div>"
     },
     "metadata": {},
     "execution_count": 15
    }
   ],
   "source": [
    "stock_final.head()"
   ]
  },
  {
   "cell_type": "code",
   "execution_count": 18,
   "metadata": {},
   "outputs": [],
   "source": [
    "## save hist price to csv\n",
    "stock_final.to_csv(\"../04data/01stockprice/histprice.csv\")"
   ]
  },
  {
   "cell_type": "code",
   "execution_count": 23,
   "metadata": {},
   "outputs": [
    {
     "output_type": "execute_result",
     "data": {
      "text/plain": [
       "                  Open        High         Low       Close   Adj Close  \\\n",
       "Date                                                                     \n",
       "2014-12-31  160.639999  162.690002  159.259995  159.279999  156.463760   \n",
       "2015-01-02  160.850006  162.500000  157.470001  158.559998  155.756485   \n",
       "2015-01-05  158.169998  158.990005  155.899994  156.470001  153.703476   \n",
       "2015-01-06  156.559998  157.289993  153.899994  156.360001  153.595398   \n",
       "2015-01-07  157.610001  160.610001  157.059998  159.720001  156.895981   \n",
       "...                ...         ...         ...         ...         ...   \n",
       "2020-12-18  159.970001  161.039993  158.759995  159.990005  159.990005   \n",
       "2020-12-21  158.440002  160.580002  156.690002  160.490005  160.490005   \n",
       "2020-12-22  160.419998  161.179993  158.679993  159.399994  159.399994   \n",
       "2020-12-23  158.679993  160.460007  158.410004  159.289993  159.289993   \n",
       "2020-12-24  159.860001  160.979996  158.929993  160.679993  160.679993   \n",
       "\n",
       "               Volume Name  \n",
       "Date                        \n",
       "2014-12-31   468100.0  AAP  \n",
       "2015-01-02   509800.0  AAP  \n",
       "2015-01-05   803600.0  AAP  \n",
       "2015-01-06   872300.0  AAP  \n",
       "2015-01-07  1326800.0  AAP  \n",
       "...               ...  ...  \n",
       "2020-12-18  1478300.0  AAP  \n",
       "2020-12-21  1075200.0  AAP  \n",
       "2020-12-22   780400.0  AAP  \n",
       "2020-12-23   606500.0  AAP  \n",
       "2020-12-24   308000.0  AAP  \n",
       "\n",
       "[1508 rows x 7 columns]"
      ],
      "text/html": "<div>\n<style scoped>\n    .dataframe tbody tr th:only-of-type {\n        vertical-align: middle;\n    }\n\n    .dataframe tbody tr th {\n        vertical-align: top;\n    }\n\n    .dataframe thead th {\n        text-align: right;\n    }\n</style>\n<table border=\"1\" class=\"dataframe\">\n  <thead>\n    <tr style=\"text-align: right;\">\n      <th></th>\n      <th>Open</th>\n      <th>High</th>\n      <th>Low</th>\n      <th>Close</th>\n      <th>Adj Close</th>\n      <th>Volume</th>\n      <th>Name</th>\n    </tr>\n    <tr>\n      <th>Date</th>\n      <th></th>\n      <th></th>\n      <th></th>\n      <th></th>\n      <th></th>\n      <th></th>\n      <th></th>\n    </tr>\n  </thead>\n  <tbody>\n    <tr>\n      <th>2014-12-31</th>\n      <td>160.639999</td>\n      <td>162.690002</td>\n      <td>159.259995</td>\n      <td>159.279999</td>\n      <td>156.463760</td>\n      <td>468100.0</td>\n      <td>AAP</td>\n    </tr>\n    <tr>\n      <th>2015-01-02</th>\n      <td>160.850006</td>\n      <td>162.500000</td>\n      <td>157.470001</td>\n      <td>158.559998</td>\n      <td>155.756485</td>\n      <td>509800.0</td>\n      <td>AAP</td>\n    </tr>\n    <tr>\n      <th>2015-01-05</th>\n      <td>158.169998</td>\n      <td>158.990005</td>\n      <td>155.899994</td>\n      <td>156.470001</td>\n      <td>153.703476</td>\n      <td>803600.0</td>\n      <td>AAP</td>\n    </tr>\n    <tr>\n      <th>2015-01-06</th>\n      <td>156.559998</td>\n      <td>157.289993</td>\n      <td>153.899994</td>\n      <td>156.360001</td>\n      <td>153.595398</td>\n      <td>872300.0</td>\n      <td>AAP</td>\n    </tr>\n    <tr>\n      <th>2015-01-07</th>\n      <td>157.610001</td>\n      <td>160.610001</td>\n      <td>157.059998</td>\n      <td>159.720001</td>\n      <td>156.895981</td>\n      <td>1326800.0</td>\n      <td>AAP</td>\n    </tr>\n    <tr>\n      <th>...</th>\n      <td>...</td>\n      <td>...</td>\n      <td>...</td>\n      <td>...</td>\n      <td>...</td>\n      <td>...</td>\n      <td>...</td>\n    </tr>\n    <tr>\n      <th>2020-12-18</th>\n      <td>159.970001</td>\n      <td>161.039993</td>\n      <td>158.759995</td>\n      <td>159.990005</td>\n      <td>159.990005</td>\n      <td>1478300.0</td>\n      <td>AAP</td>\n    </tr>\n    <tr>\n      <th>2020-12-21</th>\n      <td>158.440002</td>\n      <td>160.580002</td>\n      <td>156.690002</td>\n      <td>160.490005</td>\n      <td>160.490005</td>\n      <td>1075200.0</td>\n      <td>AAP</td>\n    </tr>\n    <tr>\n      <th>2020-12-22</th>\n      <td>160.419998</td>\n      <td>161.179993</td>\n      <td>158.679993</td>\n      <td>159.399994</td>\n      <td>159.399994</td>\n      <td>780400.0</td>\n      <td>AAP</td>\n    </tr>\n    <tr>\n      <th>2020-12-23</th>\n      <td>158.679993</td>\n      <td>160.460007</td>\n      <td>158.410004</td>\n      <td>159.289993</td>\n      <td>159.289993</td>\n      <td>606500.0</td>\n      <td>AAP</td>\n    </tr>\n    <tr>\n      <th>2020-12-24</th>\n      <td>159.860001</td>\n      <td>160.979996</td>\n      <td>158.929993</td>\n      <td>160.679993</td>\n      <td>160.679993</td>\n      <td>308000.0</td>\n      <td>AAP</td>\n    </tr>\n  </tbody>\n</table>\n<p>1508 rows × 7 columns</p>\n</div>"
     },
     "metadata": {},
     "execution_count": 23
    }
   ],
   "source": [
    "stock_final[stock_final['Name'] == 'AAP']"
   ]
  },
  {
   "cell_type": "code",
   "execution_count": 26,
   "metadata": {},
   "outputs": [
    {
     "output_type": "stream",
     "name": "stdout",
     "text": [
      "number of unique stock 503\n"
     ]
    }
   ],
   "source": [
    "print(\"number of unique stock\",len(stock_final['Name'].value_counts()))"
   ]
  },
  {
   "source": [
    "## Import Google trend data"
   ],
   "cell_type": "markdown",
   "metadata": {}
  },
  {
   "cell_type": "code",
   "execution_count": 4,
   "metadata": {},
   "outputs": [
    {
     "output_type": "stream",
     "name": "stdout",
     "text": [
      "Test sleep\n"
     ]
    }
   ],
   "source": [
    "from time import sleep\n",
    "\n",
    "sleep(4)\n",
    "print('Test sleep')"
   ]
  },
  {
   "cell_type": "code",
   "execution_count": 36,
   "metadata": {},
   "outputs": [
    {
     "output_type": "stream",
     "name": "stdout",
     "text": [
      "Credit Services\n"
     ]
    }
   ],
   "source": [
    "test = yf.Ticker(\"MA\")\n",
    "print(test.info['industry'])"
   ]
  },
  {
   "cell_type": "code",
   "execution_count": 3,
   "metadata": {},
   "outputs": [],
   "source": [
    "# Import TrendReq and Setting\n",
    "from pytrends.request import TrendReq\n",
    "pytrends = TrendReq(hl='en-US', tz=360)"
   ]
  },
  {
   "cell_type": "code",
   "execution_count": 7,
   "metadata": {},
   "outputs": [
    {
     "output_type": "stream",
     "name": "stdout",
     "text": [
      "['TSLA']\n            TSLA\ndate            \n2020-08-01    65\n2020-09-01   100\n2020-10-01    48\n2020-11-01    49\n2020-12-01    75\n"
     ]
    }
   ],
   "source": [
    "# test create code for getting monthly Google Trend Data Overtime for a single stock\n",
    "kw_list = ['TSLA']\n",
    "pytrends.build_payload(kw_list, cat=0, timeframe= 'all', geo='US',gprop='')\n",
    "Tempdata = pd.DataFrame(pytrends.interest_over_time())\n",
    "Tempdata = Tempdata.drop(columns= ['isPartial'])\n",
    "print(kw_list)\n",
    "print(Tempdata.tail(5))"
   ]
  },
  {
   "cell_type": "code",
   "execution_count": 10,
   "metadata": {},
   "outputs": [],
   "source": [
    "## Monthly Google Trend Data OverTime\n",
    "\n",
    "## Create a blank dataframe with date as index for merging with data from TempData table later.\n",
    "\n",
    "kw_list = ['NONE']\n",
    "pytrends.build_payload(kw_list, cat=0, timeframe='all', geo='US', gprop='')  #'today 5-y'\n",
    "TempData = pd.DataFrame(pytrends.interest_over_time())\n",
    "GGTrendAllTimeMonthly = TempData.drop(columns=['isPartial','NONE'])\n",
    "\n",
    "\n",
    "\n",
    "## Getting 'Monthly Google Trend Data OverTime' for the first 50 stocks in StockName\n",
    "count = 0\n",
    "\n",
    "for Stock in symbol_list :\n",
    "   kw_list = [Stock]\n",
    "   pytrends.build_payload(kw_list, cat=0, timeframe='all', geo='US', gprop='')  #'today 5-y'\n",
    "   TempData = pd.DataFrame(pytrends.interest_over_time())\n",
    "   TempData = TempData.drop(columns=['isPartial'])\n",
    "   GGTrendAllTimeMonthly = pd.concat([GGTrendAllTimeMonthly, TempData], axis=1, join='inner')\n",
    "\n",
    "   count += 1\n",
    "   if count % 40 == 0:\n",
    "      sleep(20)\n",
    "#    print(kw_list)\n",
    "   #print(GGTrendAllTimeMonthly.head(2))\n",
    "   #print('------------------')"
   ]
  },
  {
   "cell_type": "code",
   "execution_count": 13,
   "metadata": {},
   "outputs": [
    {
     "output_type": "execute_result",
     "data": {
      "text/plain": [
       "             AAPL        MSFT        AMZN          FB       GOOGL        GOOG  \\\n",
       "count  204.000000  204.000000  204.000000  204.000000  204.000000  204.000000   \n",
       "mean    38.446078   22.877451   17.598039   13.975490   42.112745   37.990196   \n",
       "std     18.267364   15.216328   21.689824   19.176504   23.216947   16.840308   \n",
       "min      1.000000    7.000000    0.000000    0.000000    1.000000    3.000000   \n",
       "25%     27.000000   12.000000    4.000000    0.000000   24.750000   23.000000   \n",
       "50%     36.000000   17.000000    7.000000   10.000000   38.000000   38.000000   \n",
       "75%     49.000000   30.000000   22.000000   17.000000   60.500000   51.000000   \n",
       "max    100.000000  100.000000  100.000000  100.000000  100.000000  100.000000   \n",
       "\n",
       "             TSLA       BRK.B         JNJ         JPM  ...         UNM  \\\n",
       "count  204.000000  204.000000  204.000000  204.000000  ...  204.000000   \n",
       "mean     8.975490   21.485294   32.323529   29.480392  ...   63.823529   \n",
       "std     15.023279   14.905772   13.156251   15.596027  ...   15.097654   \n",
       "min      0.000000    0.000000    7.000000    4.000000  ...   36.000000   \n",
       "25%      0.000000   12.000000   24.000000   20.750000  ...   50.750000   \n",
       "50%      1.000000   18.000000   30.000000   26.000000  ...   63.000000   \n",
       "75%     12.000000   26.250000   38.250000   35.000000  ...   76.000000   \n",
       "max    100.000000  100.000000  100.000000  100.000000  ...  100.000000   \n",
       "\n",
       "              FOX         GPS         SLG         FTI         XRX         HFC  \\\n",
       "count  204.000000  204.000000  204.000000  204.000000  204.000000  204.000000   \n",
       "mean    49.333333   37.313725   35.808824   51.318627   33.647059   42.666667   \n",
       "std      9.214823   14.678143   17.327836   15.952869   15.518397   19.089023   \n",
       "min     32.000000   16.000000    0.000000   16.000000    0.000000   19.000000   \n",
       "25%     45.000000   26.000000   25.000000   40.750000   25.000000   28.000000   \n",
       "50%     49.000000   33.000000   32.000000   46.000000   32.000000   36.000000   \n",
       "75%     54.000000   47.000000   41.250000   59.000000   40.000000   55.250000   \n",
       "max    100.000000  100.000000  100.000000  100.000000  100.000000  100.000000   \n",
       "\n",
       "              UAA          UA         NWS  \n",
       "count  204.000000  204.000000  204.000000  \n",
       "mean    51.200980   55.980392   57.813725  \n",
       "std     17.758195   22.395012   11.469154  \n",
       "min     17.000000   23.000000   32.000000  \n",
       "25%     37.000000   37.000000   49.000000  \n",
       "50%     49.000000   50.500000   58.000000  \n",
       "75%     64.000000   80.250000   65.000000  \n",
       "max    100.000000  100.000000  100.000000  \n",
       "\n",
       "[8 rows x 505 columns]"
      ],
      "text/html": "<div>\n<style scoped>\n    .dataframe tbody tr th:only-of-type {\n        vertical-align: middle;\n    }\n\n    .dataframe tbody tr th {\n        vertical-align: top;\n    }\n\n    .dataframe thead th {\n        text-align: right;\n    }\n</style>\n<table border=\"1\" class=\"dataframe\">\n  <thead>\n    <tr style=\"text-align: right;\">\n      <th></th>\n      <th>AAPL</th>\n      <th>MSFT</th>\n      <th>AMZN</th>\n      <th>FB</th>\n      <th>GOOGL</th>\n      <th>GOOG</th>\n      <th>TSLA</th>\n      <th>BRK.B</th>\n      <th>JNJ</th>\n      <th>JPM</th>\n      <th>...</th>\n      <th>UNM</th>\n      <th>FOX</th>\n      <th>GPS</th>\n      <th>SLG</th>\n      <th>FTI</th>\n      <th>XRX</th>\n      <th>HFC</th>\n      <th>UAA</th>\n      <th>UA</th>\n      <th>NWS</th>\n    </tr>\n  </thead>\n  <tbody>\n    <tr>\n      <th>count</th>\n      <td>204.000000</td>\n      <td>204.000000</td>\n      <td>204.000000</td>\n      <td>204.000000</td>\n      <td>204.000000</td>\n      <td>204.000000</td>\n      <td>204.000000</td>\n      <td>204.000000</td>\n      <td>204.000000</td>\n      <td>204.000000</td>\n      <td>...</td>\n      <td>204.000000</td>\n      <td>204.000000</td>\n      <td>204.000000</td>\n      <td>204.000000</td>\n      <td>204.000000</td>\n      <td>204.000000</td>\n      <td>204.000000</td>\n      <td>204.000000</td>\n      <td>204.000000</td>\n      <td>204.000000</td>\n    </tr>\n    <tr>\n      <th>mean</th>\n      <td>38.446078</td>\n      <td>22.877451</td>\n      <td>17.598039</td>\n      <td>13.975490</td>\n      <td>42.112745</td>\n      <td>37.990196</td>\n      <td>8.975490</td>\n      <td>21.485294</td>\n      <td>32.323529</td>\n      <td>29.480392</td>\n      <td>...</td>\n      <td>63.823529</td>\n      <td>49.333333</td>\n      <td>37.313725</td>\n      <td>35.808824</td>\n      <td>51.318627</td>\n      <td>33.647059</td>\n      <td>42.666667</td>\n      <td>51.200980</td>\n      <td>55.980392</td>\n      <td>57.813725</td>\n    </tr>\n    <tr>\n      <th>std</th>\n      <td>18.267364</td>\n      <td>15.216328</td>\n      <td>21.689824</td>\n      <td>19.176504</td>\n      <td>23.216947</td>\n      <td>16.840308</td>\n      <td>15.023279</td>\n      <td>14.905772</td>\n      <td>13.156251</td>\n      <td>15.596027</td>\n      <td>...</td>\n      <td>15.097654</td>\n      <td>9.214823</td>\n      <td>14.678143</td>\n      <td>17.327836</td>\n      <td>15.952869</td>\n      <td>15.518397</td>\n      <td>19.089023</td>\n      <td>17.758195</td>\n      <td>22.395012</td>\n      <td>11.469154</td>\n    </tr>\n    <tr>\n      <th>min</th>\n      <td>1.000000</td>\n      <td>7.000000</td>\n      <td>0.000000</td>\n      <td>0.000000</td>\n      <td>1.000000</td>\n      <td>3.000000</td>\n      <td>0.000000</td>\n      <td>0.000000</td>\n      <td>7.000000</td>\n      <td>4.000000</td>\n      <td>...</td>\n      <td>36.000000</td>\n      <td>32.000000</td>\n      <td>16.000000</td>\n      <td>0.000000</td>\n      <td>16.000000</td>\n      <td>0.000000</td>\n      <td>19.000000</td>\n      <td>17.000000</td>\n      <td>23.000000</td>\n      <td>32.000000</td>\n    </tr>\n    <tr>\n      <th>25%</th>\n      <td>27.000000</td>\n      <td>12.000000</td>\n      <td>4.000000</td>\n      <td>0.000000</td>\n      <td>24.750000</td>\n      <td>23.000000</td>\n      <td>0.000000</td>\n      <td>12.000000</td>\n      <td>24.000000</td>\n      <td>20.750000</td>\n      <td>...</td>\n      <td>50.750000</td>\n      <td>45.000000</td>\n      <td>26.000000</td>\n      <td>25.000000</td>\n      <td>40.750000</td>\n      <td>25.000000</td>\n      <td>28.000000</td>\n      <td>37.000000</td>\n      <td>37.000000</td>\n      <td>49.000000</td>\n    </tr>\n    <tr>\n      <th>50%</th>\n      <td>36.000000</td>\n      <td>17.000000</td>\n      <td>7.000000</td>\n      <td>10.000000</td>\n      <td>38.000000</td>\n      <td>38.000000</td>\n      <td>1.000000</td>\n      <td>18.000000</td>\n      <td>30.000000</td>\n      <td>26.000000</td>\n      <td>...</td>\n      <td>63.000000</td>\n      <td>49.000000</td>\n      <td>33.000000</td>\n      <td>32.000000</td>\n      <td>46.000000</td>\n      <td>32.000000</td>\n      <td>36.000000</td>\n      <td>49.000000</td>\n      <td>50.500000</td>\n      <td>58.000000</td>\n    </tr>\n    <tr>\n      <th>75%</th>\n      <td>49.000000</td>\n      <td>30.000000</td>\n      <td>22.000000</td>\n      <td>17.000000</td>\n      <td>60.500000</td>\n      <td>51.000000</td>\n      <td>12.000000</td>\n      <td>26.250000</td>\n      <td>38.250000</td>\n      <td>35.000000</td>\n      <td>...</td>\n      <td>76.000000</td>\n      <td>54.000000</td>\n      <td>47.000000</td>\n      <td>41.250000</td>\n      <td>59.000000</td>\n      <td>40.000000</td>\n      <td>55.250000</td>\n      <td>64.000000</td>\n      <td>80.250000</td>\n      <td>65.000000</td>\n    </tr>\n    <tr>\n      <th>max</th>\n      <td>100.000000</td>\n      <td>100.000000</td>\n      <td>100.000000</td>\n      <td>100.000000</td>\n      <td>100.000000</td>\n      <td>100.000000</td>\n      <td>100.000000</td>\n      <td>100.000000</td>\n      <td>100.000000</td>\n      <td>100.000000</td>\n      <td>...</td>\n      <td>100.000000</td>\n      <td>100.000000</td>\n      <td>100.000000</td>\n      <td>100.000000</td>\n      <td>100.000000</td>\n      <td>100.000000</td>\n      <td>100.000000</td>\n      <td>100.000000</td>\n      <td>100.000000</td>\n      <td>100.000000</td>\n    </tr>\n  </tbody>\n</table>\n<p>8 rows × 505 columns</p>\n</div>"
     },
     "metadata": {},
     "execution_count": 13
    }
   ],
   "source": [
    "GGTrendAllTimeMonthly.describe()"
   ]
  },
  {
   "cell_type": "code",
   "execution_count": 15,
   "metadata": {},
   "outputs": [],
   "source": []
  },
  {
   "cell_type": "code",
   "execution_count": null,
   "metadata": {},
   "outputs": [],
   "source": []
  },
  {
   "cell_type": "code",
   "execution_count": null,
   "metadata": {},
   "outputs": [],
   "source": []
  },
  {
   "cell_type": "code",
   "execution_count": null,
   "metadata": {},
   "outputs": [],
   "source": []
  },
  {
   "cell_type": "code",
   "execution_count": null,
   "metadata": {},
   "outputs": [],
   "source": []
  }
 ]
}