{
 "metadata": {
  "language_info": {
   "codemirror_mode": {
    "name": "ipython",
    "version": 3
   },
   "file_extension": ".py",
   "mimetype": "text/x-python",
   "name": "python",
   "nbconvert_exporter": "python",
   "pygments_lexer": "ipython3",
   "version": "3.6.5-final"
  },
  "orig_nbformat": 2,
  "kernelspec": {
   "name": "python3",
   "display_name": "Python 3.6.5 64-bit ('stock_ai': conda)",
   "metadata": {
    "interpreter": {
     "hash": "777d98fd6dac4e283b66c8c57d34f1581548f7c7d25abb5ab0884a44f3eda914"
    }
   }
  }
 },
 "nbformat": 4,
 "nbformat_minor": 2,
 "cells": [
  {
   "source": [
    "# Merge Datasource"
   ],
   "cell_type": "markdown",
   "metadata": {}
  },
  {
   "cell_type": "code",
   "execution_count": 5,
   "metadata": {},
   "outputs": [],
   "source": [
    "import pandas as pd\n",
    "import numpy as np\n",
    "from datetime import datetime\n",
    "import io , os , time ,requests,json,bs4\n",
    "from time import sleep\n",
    "import lxml.etree as xml\n",
    "import pandas_datareader as pdr\n",
    "from yahoo_finance import Share\n",
    "import matplotlib.pyplot as plt\n",
    "%matplotlib inline"
   ]
  },
  {
   "cell_type": "code",
   "execution_count": 8,
   "metadata": {},
   "outputs": [],
   "source": [
    "# init \n",
    "datapath = '/mnt/c/Users/poom/drive/01project/01cap_stone/04data/01stockprice'\n",
    "\n",
    "pd.set_option('display.max_rows', 500)\n",
    "pd.set_option('display.max_columns', 500)\n",
    "pd.set_option('display.width', 1000)\n"
   ]
  },
  {
   "cell_type": "code",
   "execution_count": 7,
   "metadata": {},
   "outputs": [],
   "source": [
    "## import data\n",
    "# Historical stockprice and technical indicator\n",
    "sp500histprice = pd.read_csv(os.path.join(datapath,'histprice3.csv'))\n",
    "# sentimental analysis\n",
    "sentimental = pd.read_csv(os.path.join(datapath,'sentimental_analysis.csv'))\n",
    "# GG trends\n",
    "ggtrend = pd.read_csv(os.path.join(datapath,'GGTrendallTimeMonthly.csv'))\n",
    "# World indicies\n",
    "indices = pd.read_csv(os.path.join(datapath,'General_data.csv'))"
   ]
  },
  {
   "cell_type": "code",
   "execution_count": null,
   "metadata": {},
   "outputs": [],
   "source": []
  },
  {
   "cell_type": "code",
   "execution_count": null,
   "metadata": {},
   "outputs": [],
   "source": []
  },
  {
   "cell_type": "code",
   "execution_count": null,
   "metadata": {},
   "outputs": [],
   "source": []
  },
  {
   "cell_type": "code",
   "execution_count": null,
   "metadata": {},
   "outputs": [],
   "source": []
  },
  {
   "cell_type": "code",
   "execution_count": null,
   "metadata": {},
   "outputs": [],
   "source": []
  }
 ]
}