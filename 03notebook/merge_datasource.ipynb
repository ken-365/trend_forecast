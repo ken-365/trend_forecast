{
 "metadata": {
  "language_info": {
   "codemirror_mode": {
    "name": "ipython",
    "version": 3
   },
   "file_extension": ".py",
   "mimetype": "text/x-python",
   "name": "python",
   "nbconvert_exporter": "python",
   "pygments_lexer": "ipython3",
   "version": "3.6.5-final"
  },
  "orig_nbformat": 2,
  "kernelspec": {
   "name": "python3",
   "display_name": "Python 3.6.5 64-bit ('stock_ai': conda)",
   "metadata": {
    "interpreter": {
     "hash": "777d98fd6dac4e283b66c8c57d34f1581548f7c7d25abb5ab0884a44f3eda914"
    }
   }
  }
 },
 "nbformat": 4,
 "nbformat_minor": 2,
 "cells": [
  {
   "source": [
    "# Merge Datasource"
   ],
   "cell_type": "markdown",
   "metadata": {}
  },
  {
   "cell_type": "code",
   "execution_count": 2,
   "metadata": {},
   "outputs": [],
   "source": [
    "import pandas as pd\n",
    "import numpy as np\n",
    "from datetime import datetime\n",
    "import io , os , time ,requests,json,bs4\n",
    "from time import sleep\n",
    "import lxml.etree as xml\n",
    "import pandas_datareader as pdr\n",
    "from yahoo_finance import Share\n",
    "import matplotlib.pyplot as plt\n",
    "%matplotlib inline\n",
    "\n",
    "# model\n",
    "import pmdarima as pm"
   ]
  },
  {
   "cell_type": "code",
   "execution_count": 3,
   "metadata": {},
   "outputs": [],
   "source": [
    "# init \n",
    "datapath = '/mnt/c/Users/poom/drive/01project/01cap_stone/04data/01stockprice'\n",
    "\n",
    "pd.set_option('display.max_rows', 500)\n",
    "pd.set_option('display.max_columns', 500)\n",
    "pd.set_option('display.width', 1000)"
   ]
  },
  {
   "cell_type": "code",
   "execution_count": 54,
   "metadata": {},
   "outputs": [],
   "source": [
    "## import data\n",
    "# Historical stockprice and technical indicator\n",
    "sp500histprice = pd.read_csv(os.path.join(datapath,'histprice3.csv'))\n",
    "# sentimental analysis\n",
    "sentimental = pd.read_csv(os.path.join(datapath,'sentimental_analysis2.csv'))\n",
    "# GG trends\n",
    "ggtrend = pd.read_csv(os.path.join(datapath,'GGTrendallTimeMonthly.csv'))\n",
    "# World indicies\n",
    "indices = pd.read_csv(os.path.join(datapath,'General_data.csv'))"
   ]
  },
  {
   "cell_type": "code",
   "execution_count": 55,
   "metadata": {},
   "outputs": [
    {
     "output_type": "execute_result",
     "data": {
      "text/plain": [
       "          Date       High        Low       Open      Close       Volume  Adj Close      ema10      ema20      ema75      macd  macd_signal_line        rsi        L14        H14         %K         %D  name\n",
       "15  2015-01-22  28.117500  27.430000  27.565001  28.100000  215185600.0  25.597706  24.955144  25.045723  25.371346 -0.144608         -0.192319  54.163214  26.157499  28.312500  90.139232  63.747240  AAPL\n",
       "16  2015-01-23  28.437500  27.882500  28.075001  28.245001  185859200.0  25.729790  25.095989  25.110872  25.380778 -0.072844         -0.168424  57.671228  26.157499  28.437500  91.557057  79.590968  AAPL\n",
       "17  2015-01-26  28.590000  28.200001  28.434999  28.275000  222460000.0  25.757124  25.216195  25.172420  25.390682 -0.013608         -0.137461  66.442618  26.157499  28.590000  87.050342  89.582210  AAPL\n",
       "18  2015-01-27  28.120001  27.257500  28.105000  27.285000  382274800.0  24.855284  25.150575  25.142216  25.376593 -0.038984         -0.117766  55.811122  26.299999  28.590000  43.013110  73.873503  AAPL\n",
       "19  2015-01-28  29.530001  28.827499  29.407499  28.827499  585908400.0  26.260420  25.352365  25.248712  25.399851  0.053669         -0.083479  62.830907  26.299999  29.530001  78.250744  69.438065  AAPL"
      ],
      "text/html": "<div>\n<style scoped>\n    .dataframe tbody tr th:only-of-type {\n        vertical-align: middle;\n    }\n\n    .dataframe tbody tr th {\n        vertical-align: top;\n    }\n\n    .dataframe thead th {\n        text-align: right;\n    }\n</style>\n<table border=\"1\" class=\"dataframe\">\n  <thead>\n    <tr style=\"text-align: right;\">\n      <th></th>\n      <th>Date</th>\n      <th>High</th>\n      <th>Low</th>\n      <th>Open</th>\n      <th>Close</th>\n      <th>Volume</th>\n      <th>Adj Close</th>\n      <th>ema10</th>\n      <th>ema20</th>\n      <th>ema75</th>\n      <th>macd</th>\n      <th>macd_signal_line</th>\n      <th>rsi</th>\n      <th>L14</th>\n      <th>H14</th>\n      <th>%K</th>\n      <th>%D</th>\n      <th>name</th>\n    </tr>\n  </thead>\n  <tbody>\n    <tr>\n      <th>15</th>\n      <td>2015-01-22</td>\n      <td>28.117500</td>\n      <td>27.430000</td>\n      <td>27.565001</td>\n      <td>28.100000</td>\n      <td>215185600.0</td>\n      <td>25.597706</td>\n      <td>24.955144</td>\n      <td>25.045723</td>\n      <td>25.371346</td>\n      <td>-0.144608</td>\n      <td>-0.192319</td>\n      <td>54.163214</td>\n      <td>26.157499</td>\n      <td>28.312500</td>\n      <td>90.139232</td>\n      <td>63.747240</td>\n      <td>AAPL</td>\n    </tr>\n    <tr>\n      <th>16</th>\n      <td>2015-01-23</td>\n      <td>28.437500</td>\n      <td>27.882500</td>\n      <td>28.075001</td>\n      <td>28.245001</td>\n      <td>185859200.0</td>\n      <td>25.729790</td>\n      <td>25.095989</td>\n      <td>25.110872</td>\n      <td>25.380778</td>\n      <td>-0.072844</td>\n      <td>-0.168424</td>\n      <td>57.671228</td>\n      <td>26.157499</td>\n      <td>28.437500</td>\n      <td>91.557057</td>\n      <td>79.590968</td>\n      <td>AAPL</td>\n    </tr>\n    <tr>\n      <th>17</th>\n      <td>2015-01-26</td>\n      <td>28.590000</td>\n      <td>28.200001</td>\n      <td>28.434999</td>\n      <td>28.275000</td>\n      <td>222460000.0</td>\n      <td>25.757124</td>\n      <td>25.216195</td>\n      <td>25.172420</td>\n      <td>25.390682</td>\n      <td>-0.013608</td>\n      <td>-0.137461</td>\n      <td>66.442618</td>\n      <td>26.157499</td>\n      <td>28.590000</td>\n      <td>87.050342</td>\n      <td>89.582210</td>\n      <td>AAPL</td>\n    </tr>\n    <tr>\n      <th>18</th>\n      <td>2015-01-27</td>\n      <td>28.120001</td>\n      <td>27.257500</td>\n      <td>28.105000</td>\n      <td>27.285000</td>\n      <td>382274800.0</td>\n      <td>24.855284</td>\n      <td>25.150575</td>\n      <td>25.142216</td>\n      <td>25.376593</td>\n      <td>-0.038984</td>\n      <td>-0.117766</td>\n      <td>55.811122</td>\n      <td>26.299999</td>\n      <td>28.590000</td>\n      <td>43.013110</td>\n      <td>73.873503</td>\n      <td>AAPL</td>\n    </tr>\n    <tr>\n      <th>19</th>\n      <td>2015-01-28</td>\n      <td>29.530001</td>\n      <td>28.827499</td>\n      <td>29.407499</td>\n      <td>28.827499</td>\n      <td>585908400.0</td>\n      <td>26.260420</td>\n      <td>25.352365</td>\n      <td>25.248712</td>\n      <td>25.399851</td>\n      <td>0.053669</td>\n      <td>-0.083479</td>\n      <td>62.830907</td>\n      <td>26.299999</td>\n      <td>29.530001</td>\n      <td>78.250744</td>\n      <td>69.438065</td>\n      <td>AAPL</td>\n    </tr>\n  </tbody>\n</table>\n</div>"
     },
     "metadata": {},
     "execution_count": 55
    }
   ],
   "source": [
    "sp500histprice.head()"
   ]
  },
  {
   "cell_type": "code",
   "execution_count": 5,
   "metadata": {},
   "outputs": [
    {
     "output_type": "execute_result",
     "data": {
      "text/plain": [
       "  ticker        date  compound\n",
       "0      A  2020-05-22    0.0000\n",
       "1      A  2020-05-23   -0.3753\n",
       "2      A  2020-05-25    0.2500\n",
       "3      A  2020-05-27    0.0000\n",
       "4      A  2020-05-28    0.4462"
      ],
      "text/html": "<div>\n<style scoped>\n    .dataframe tbody tr th:only-of-type {\n        vertical-align: middle;\n    }\n\n    .dataframe tbody tr th {\n        vertical-align: top;\n    }\n\n    .dataframe thead th {\n        text-align: right;\n    }\n</style>\n<table border=\"1\" class=\"dataframe\">\n  <thead>\n    <tr style=\"text-align: right;\">\n      <th></th>\n      <th>ticker</th>\n      <th>date</th>\n      <th>compound</th>\n    </tr>\n  </thead>\n  <tbody>\n    <tr>\n      <th>0</th>\n      <td>A</td>\n      <td>2020-05-22</td>\n      <td>0.0000</td>\n    </tr>\n    <tr>\n      <th>1</th>\n      <td>A</td>\n      <td>2020-05-23</td>\n      <td>-0.3753</td>\n    </tr>\n    <tr>\n      <th>2</th>\n      <td>A</td>\n      <td>2020-05-25</td>\n      <td>0.2500</td>\n    </tr>\n    <tr>\n      <th>3</th>\n      <td>A</td>\n      <td>2020-05-27</td>\n      <td>0.0000</td>\n    </tr>\n    <tr>\n      <th>4</th>\n      <td>A</td>\n      <td>2020-05-28</td>\n      <td>0.4462</td>\n    </tr>\n  </tbody>\n</table>\n</div>"
     },
     "metadata": {},
     "execution_count": 5
    }
   ],
   "source": [
    "sentimental.head()"
   ]
  },
  {
   "cell_type": "code",
   "execution_count": 6,
   "metadata": {},
   "outputs": [
    {
     "output_type": "execute_result",
     "data": {
      "text/plain": [
       "         date  Name  GGTrendAllTimeMonthly\n",
       "0  2004-01-01  AAPL                      3\n",
       "1  2004-02-01  AAPL                      1\n",
       "2  2004-03-01  AAPL                      6\n",
       "3  2004-04-01  AAPL                      2\n",
       "4  2004-05-01  AAPL                      2"
      ],
      "text/html": "<div>\n<style scoped>\n    .dataframe tbody tr th:only-of-type {\n        vertical-align: middle;\n    }\n\n    .dataframe tbody tr th {\n        vertical-align: top;\n    }\n\n    .dataframe thead th {\n        text-align: right;\n    }\n</style>\n<table border=\"1\" class=\"dataframe\">\n  <thead>\n    <tr style=\"text-align: right;\">\n      <th></th>\n      <th>date</th>\n      <th>Name</th>\n      <th>GGTrendAllTimeMonthly</th>\n    </tr>\n  </thead>\n  <tbody>\n    <tr>\n      <th>0</th>\n      <td>2004-01-01</td>\n      <td>AAPL</td>\n      <td>3</td>\n    </tr>\n    <tr>\n      <th>1</th>\n      <td>2004-02-01</td>\n      <td>AAPL</td>\n      <td>1</td>\n    </tr>\n    <tr>\n      <th>2</th>\n      <td>2004-03-01</td>\n      <td>AAPL</td>\n      <td>6</td>\n    </tr>\n    <tr>\n      <th>3</th>\n      <td>2004-04-01</td>\n      <td>AAPL</td>\n      <td>2</td>\n    </tr>\n    <tr>\n      <th>4</th>\n      <td>2004-05-01</td>\n      <td>AAPL</td>\n      <td>2</td>\n    </tr>\n  </tbody>\n</table>\n</div>"
     },
     "metadata": {},
     "execution_count": 6
    }
   ],
   "source": [
    "ggtrend = ggtrend.drop('Unnamed: 0', axis = 1)\n",
    "ggtrend.head()"
   ]
  },
  {
   "cell_type": "code",
   "execution_count": 7,
   "metadata": {},
   "outputs": [
    {
     "output_type": "execute_result",
     "data": {
      "text/plain": [
       "   Unnamed: 0        Date  d_Year  d_Month  d_Date  d_FirstDayOfMonth  d_DayInWeek  d_WeekInMonth  d_WeekInYear   COILOpen   COILHigh    COILLow  COILClose  COILAdj Close  COILVolume       DJIOpen       DJIHigh        DJILow      DJIClose  DJIAdj Close  DJIVolume  EURUSDOpen  EURUSDHigh  EURUSDLow  EURUSDClose  EURUSDAdj Close  EURUSDVolume     GOLDOpen     GOLDHigh      GOLDLow    GOLDClose  GOLDAdj Close  GOLDVolume     IXICOpen     IXICHigh      IXICLow    IXICClose  IXICAdj Close  IXICVolume      N225Open      N225High       N225Low     N225Close  N225Adj Close  N225Volume  NGFOpen  NGFHigh  NGFLow  NGFClose  NGFAdj Close  NGFVolume       NYAOpen       NYAHigh        NYALow      NYAClose  NYAAdj Close   NYAVolume  SILVEROpen  SILVERHigh  SILVERLow  SILVERClose  SILVERAdj Close  SILVERVolume    SP500Open    SP500High     SP500Low   SP500Close  SP500Adj Close  SP500Volume  USDCNYOpen  USDCNYHigh  USDCNYLow  USDCNYClose  USDCNYAdj Close  USDCNYVolume\n",
       "0           0  2015-01-05    2015        1       5                  0            0              2             2  52.610001  52.730000  49.680000  50.040001      50.040001    375782.0  17821.300781  17821.300781  17475.929688  17501.650391  17501.650391  116160000    1.195500    1.197590   1.188909     1.194643         1.194643           0.0  1180.300049  1206.900024  1180.099976  1203.900024    1203.900024       470.0  4700.339844  4702.770020  4641.459961  4652.569824    4652.569824  1794470000  17325.679688  17540.919922  17219.220703  17408.710938   17408.710938    116500.0    3.076    3.176   2.875     2.882         2.882   141783.0  10764.370117  10764.370117  10588.049805  10607.679688  10607.679688  3799120000   16.179001   16.179001  16.179001    16.179001        16.179001           0.0  2054.439941  2054.439941  2017.339966  2020.579956     2020.579956   3799120000      6.1961      6.2090     6.1961       6.1961           6.1961           0.0\n",
       "1           1  2015-01-06    2015        1       6                  0            1              2             2  50.000000  50.369999  47.549999  47.930000      47.930000    451642.0  17504.179688  17581.050781  17262.369141  17371.640625  17371.640625  101870000    1.193830    1.197000   1.188693     1.193902         1.193902           0.0  1203.500000  1220.000000  1203.500000  1219.300049    1219.300049        97.0  4666.850098  4667.330078  4567.589844  4592.740234    4592.740234  2167320000  17101.580078  17111.359375  16881.730469  16883.189453   16883.189453    166000.0    2.921    2.955   2.811     2.938         2.938   111338.0  10610.780273  10647.209961  10457.889648  10514.870117  10514.870117  4460110000   16.603001   16.603001  16.603001    16.603001        16.603001           2.0  2022.150024  2030.250000  1992.439941  2002.609985     2002.609985   4460110000      6.2084      6.2084     6.1988       6.2084           6.2084           0.0\n",
       "2           2  2015-01-07    2015        1       7                  0            2              2             2  48.000000  49.310001  46.830002  48.650002      48.650002    460083.0  17374.779297  17597.080078  17374.779297  17584.519531  17584.519531   91030000    1.187479    1.190000   1.180401     1.187536         1.187536           0.0  1219.199951  1219.199951  1210.599976  1210.599976    1210.599976        29.0  4626.839844  4652.720215  4613.899902  4650.470215    4650.470215  1957950000  16808.259766  16974.609375  16808.259766  16885.330078   16885.330078    138600.0    2.949    3.012   2.825     2.871         2.871   134826.0  10514.480469  10638.740234  10514.480469  10627.129883  10627.129883  3805480000   16.480000   16.549999  16.480000    16.510000        16.510000           9.0  2005.550049  2029.609985  2005.550049  2025.900024     2025.900024   3805480000      6.2020      6.2040     6.1976       6.2020           6.2020           0.0\n",
       "3           3  2015-01-08    2015        1       8                  0            3              2             2  48.779999  49.650002  47.730000  48.790001      48.790001    362081.0  17591.970703  17916.039063  17591.970703  17907.869141  17907.869141  114890000    1.183894    1.184806   1.175601     1.183600         1.183600           0.0  1207.000000  1215.699951  1206.300049  1208.400024    1208.400024        92.0  4689.540039  4741.379883  4688.020020  4736.189941    4736.189941  2105450000  17067.400391  17243.710938  17016.089844  17167.099609   17167.099609    140600.0    2.877    2.968   2.816     2.927         2.927   147797.0  10686.000000  10809.459961  10686.000000  10800.540039  10800.540039  3934010000   16.351000   16.351000  16.351000    16.351000        16.351000           0.0  2030.609985  2064.080078  2030.609985  2062.139893     2062.139893   3934010000      6.2040      6.2102     6.2035       6.2040           6.2040           0.0\n",
       "4           4  2015-01-09    2015        1       9                  0            4              2             2  48.919998  49.610001  47.160000  48.360001      48.360001    421007.0  17911.019531  17915.320313  17686.089844  17737.369141  17737.369141   93390000    1.179426    1.183830   1.176831     1.179607         1.179607           0.0  1211.099976  1220.199951  1210.300049  1216.000000    1216.000000        43.0  4744.470215  4744.709961  4681.240234  4704.069824    4704.069824  1715830000  17318.740234  17342.650391  17129.529297  17197.730469   17197.730469    155200.0    2.959    2.990   2.888     2.946         2.946   107333.0  10811.820313  10811.820313  10680.530273  10711.410156  10711.410156  3364140000   16.386000   16.386000  16.386000    16.386000        16.386000           0.0  2063.449951  2064.429932  2038.329956  2044.810059     2044.810059   3364140000      6.2035      6.2035     6.1972       6.2035           6.2035           0.0"
      ],
      "text/html": "<div>\n<style scoped>\n    .dataframe tbody tr th:only-of-type {\n        vertical-align: middle;\n    }\n\n    .dataframe tbody tr th {\n        vertical-align: top;\n    }\n\n    .dataframe thead th {\n        text-align: right;\n    }\n</style>\n<table border=\"1\" class=\"dataframe\">\n  <thead>\n    <tr style=\"text-align: right;\">\n      <th></th>\n      <th>Unnamed: 0</th>\n      <th>Date</th>\n      <th>d_Year</th>\n      <th>d_Month</th>\n      <th>d_Date</th>\n      <th>d_FirstDayOfMonth</th>\n      <th>d_DayInWeek</th>\n      <th>d_WeekInMonth</th>\n      <th>d_WeekInYear</th>\n      <th>COILOpen</th>\n      <th>COILHigh</th>\n      <th>COILLow</th>\n      <th>COILClose</th>\n      <th>COILAdj Close</th>\n      <th>COILVolume</th>\n      <th>DJIOpen</th>\n      <th>DJIHigh</th>\n      <th>DJILow</th>\n      <th>DJIClose</th>\n      <th>DJIAdj Close</th>\n      <th>DJIVolume</th>\n      <th>EURUSDOpen</th>\n      <th>EURUSDHigh</th>\n      <th>EURUSDLow</th>\n      <th>EURUSDClose</th>\n      <th>EURUSDAdj Close</th>\n      <th>EURUSDVolume</th>\n      <th>GOLDOpen</th>\n      <th>GOLDHigh</th>\n      <th>GOLDLow</th>\n      <th>GOLDClose</th>\n      <th>GOLDAdj Close</th>\n      <th>GOLDVolume</th>\n      <th>IXICOpen</th>\n      <th>IXICHigh</th>\n      <th>IXICLow</th>\n      <th>IXICClose</th>\n      <th>IXICAdj Close</th>\n      <th>IXICVolume</th>\n      <th>N225Open</th>\n      <th>N225High</th>\n      <th>N225Low</th>\n      <th>N225Close</th>\n      <th>N225Adj Close</th>\n      <th>N225Volume</th>\n      <th>NGFOpen</th>\n      <th>NGFHigh</th>\n      <th>NGFLow</th>\n      <th>NGFClose</th>\n      <th>NGFAdj Close</th>\n      <th>NGFVolume</th>\n      <th>NYAOpen</th>\n      <th>NYAHigh</th>\n      <th>NYALow</th>\n      <th>NYAClose</th>\n      <th>NYAAdj Close</th>\n      <th>NYAVolume</th>\n      <th>SILVEROpen</th>\n      <th>SILVERHigh</th>\n      <th>SILVERLow</th>\n      <th>SILVERClose</th>\n      <th>SILVERAdj Close</th>\n      <th>SILVERVolume</th>\n      <th>SP500Open</th>\n      <th>SP500High</th>\n      <th>SP500Low</th>\n      <th>SP500Close</th>\n      <th>SP500Adj Close</th>\n      <th>SP500Volume</th>\n      <th>USDCNYOpen</th>\n      <th>USDCNYHigh</th>\n      <th>USDCNYLow</th>\n      <th>USDCNYClose</th>\n      <th>USDCNYAdj Close</th>\n      <th>USDCNYVolume</th>\n    </tr>\n  </thead>\n  <tbody>\n    <tr>\n      <th>0</th>\n      <td>0</td>\n      <td>2015-01-05</td>\n      <td>2015</td>\n      <td>1</td>\n      <td>5</td>\n      <td>0</td>\n      <td>0</td>\n      <td>2</td>\n      <td>2</td>\n      <td>52.610001</td>\n      <td>52.730000</td>\n      <td>49.680000</td>\n      <td>50.040001</td>\n      <td>50.040001</td>\n      <td>375782.0</td>\n      <td>17821.300781</td>\n      <td>17821.300781</td>\n      <td>17475.929688</td>\n      <td>17501.650391</td>\n      <td>17501.650391</td>\n      <td>116160000</td>\n      <td>1.195500</td>\n      <td>1.197590</td>\n      <td>1.188909</td>\n      <td>1.194643</td>\n      <td>1.194643</td>\n      <td>0.0</td>\n      <td>1180.300049</td>\n      <td>1206.900024</td>\n      <td>1180.099976</td>\n      <td>1203.900024</td>\n      <td>1203.900024</td>\n      <td>470.0</td>\n      <td>4700.339844</td>\n      <td>4702.770020</td>\n      <td>4641.459961</td>\n      <td>4652.569824</td>\n      <td>4652.569824</td>\n      <td>1794470000</td>\n      <td>17325.679688</td>\n      <td>17540.919922</td>\n      <td>17219.220703</td>\n      <td>17408.710938</td>\n      <td>17408.710938</td>\n      <td>116500.0</td>\n      <td>3.076</td>\n      <td>3.176</td>\n      <td>2.875</td>\n      <td>2.882</td>\n      <td>2.882</td>\n      <td>141783.0</td>\n      <td>10764.370117</td>\n      <td>10764.370117</td>\n      <td>10588.049805</td>\n      <td>10607.679688</td>\n      <td>10607.679688</td>\n      <td>3799120000</td>\n      <td>16.179001</td>\n      <td>16.179001</td>\n      <td>16.179001</td>\n      <td>16.179001</td>\n      <td>16.179001</td>\n      <td>0.0</td>\n      <td>2054.439941</td>\n      <td>2054.439941</td>\n      <td>2017.339966</td>\n      <td>2020.579956</td>\n      <td>2020.579956</td>\n      <td>3799120000</td>\n      <td>6.1961</td>\n      <td>6.2090</td>\n      <td>6.1961</td>\n      <td>6.1961</td>\n      <td>6.1961</td>\n      <td>0.0</td>\n    </tr>\n    <tr>\n      <th>1</th>\n      <td>1</td>\n      <td>2015-01-06</td>\n      <td>2015</td>\n      <td>1</td>\n      <td>6</td>\n      <td>0</td>\n      <td>1</td>\n      <td>2</td>\n      <td>2</td>\n      <td>50.000000</td>\n      <td>50.369999</td>\n      <td>47.549999</td>\n      <td>47.930000</td>\n      <td>47.930000</td>\n      <td>451642.0</td>\n      <td>17504.179688</td>\n      <td>17581.050781</td>\n      <td>17262.369141</td>\n      <td>17371.640625</td>\n      <td>17371.640625</td>\n      <td>101870000</td>\n      <td>1.193830</td>\n      <td>1.197000</td>\n      <td>1.188693</td>\n      <td>1.193902</td>\n      <td>1.193902</td>\n      <td>0.0</td>\n      <td>1203.500000</td>\n      <td>1220.000000</td>\n      <td>1203.500000</td>\n      <td>1219.300049</td>\n      <td>1219.300049</td>\n      <td>97.0</td>\n      <td>4666.850098</td>\n      <td>4667.330078</td>\n      <td>4567.589844</td>\n      <td>4592.740234</td>\n      <td>4592.740234</td>\n      <td>2167320000</td>\n      <td>17101.580078</td>\n      <td>17111.359375</td>\n      <td>16881.730469</td>\n      <td>16883.189453</td>\n      <td>16883.189453</td>\n      <td>166000.0</td>\n      <td>2.921</td>\n      <td>2.955</td>\n      <td>2.811</td>\n      <td>2.938</td>\n      <td>2.938</td>\n      <td>111338.0</td>\n      <td>10610.780273</td>\n      <td>10647.209961</td>\n      <td>10457.889648</td>\n      <td>10514.870117</td>\n      <td>10514.870117</td>\n      <td>4460110000</td>\n      <td>16.603001</td>\n      <td>16.603001</td>\n      <td>16.603001</td>\n      <td>16.603001</td>\n      <td>16.603001</td>\n      <td>2.0</td>\n      <td>2022.150024</td>\n      <td>2030.250000</td>\n      <td>1992.439941</td>\n      <td>2002.609985</td>\n      <td>2002.609985</td>\n      <td>4460110000</td>\n      <td>6.2084</td>\n      <td>6.2084</td>\n      <td>6.1988</td>\n      <td>6.2084</td>\n      <td>6.2084</td>\n      <td>0.0</td>\n    </tr>\n    <tr>\n      <th>2</th>\n      <td>2</td>\n      <td>2015-01-07</td>\n      <td>2015</td>\n      <td>1</td>\n      <td>7</td>\n      <td>0</td>\n      <td>2</td>\n      <td>2</td>\n      <td>2</td>\n      <td>48.000000</td>\n      <td>49.310001</td>\n      <td>46.830002</td>\n      <td>48.650002</td>\n      <td>48.650002</td>\n      <td>460083.0</td>\n      <td>17374.779297</td>\n      <td>17597.080078</td>\n      <td>17374.779297</td>\n      <td>17584.519531</td>\n      <td>17584.519531</td>\n      <td>91030000</td>\n      <td>1.187479</td>\n      <td>1.190000</td>\n      <td>1.180401</td>\n      <td>1.187536</td>\n      <td>1.187536</td>\n      <td>0.0</td>\n      <td>1219.199951</td>\n      <td>1219.199951</td>\n      <td>1210.599976</td>\n      <td>1210.599976</td>\n      <td>1210.599976</td>\n      <td>29.0</td>\n      <td>4626.839844</td>\n      <td>4652.720215</td>\n      <td>4613.899902</td>\n      <td>4650.470215</td>\n      <td>4650.470215</td>\n      <td>1957950000</td>\n      <td>16808.259766</td>\n      <td>16974.609375</td>\n      <td>16808.259766</td>\n      <td>16885.330078</td>\n      <td>16885.330078</td>\n      <td>138600.0</td>\n      <td>2.949</td>\n      <td>3.012</td>\n      <td>2.825</td>\n      <td>2.871</td>\n      <td>2.871</td>\n      <td>134826.0</td>\n      <td>10514.480469</td>\n      <td>10638.740234</td>\n      <td>10514.480469</td>\n      <td>10627.129883</td>\n      <td>10627.129883</td>\n      <td>3805480000</td>\n      <td>16.480000</td>\n      <td>16.549999</td>\n      <td>16.480000</td>\n      <td>16.510000</td>\n      <td>16.510000</td>\n      <td>9.0</td>\n      <td>2005.550049</td>\n      <td>2029.609985</td>\n      <td>2005.550049</td>\n      <td>2025.900024</td>\n      <td>2025.900024</td>\n      <td>3805480000</td>\n      <td>6.2020</td>\n      <td>6.2040</td>\n      <td>6.1976</td>\n      <td>6.2020</td>\n      <td>6.2020</td>\n      <td>0.0</td>\n    </tr>\n    <tr>\n      <th>3</th>\n      <td>3</td>\n      <td>2015-01-08</td>\n      <td>2015</td>\n      <td>1</td>\n      <td>8</td>\n      <td>0</td>\n      <td>3</td>\n      <td>2</td>\n      <td>2</td>\n      <td>48.779999</td>\n      <td>49.650002</td>\n      <td>47.730000</td>\n      <td>48.790001</td>\n      <td>48.790001</td>\n      <td>362081.0</td>\n      <td>17591.970703</td>\n      <td>17916.039063</td>\n      <td>17591.970703</td>\n      <td>17907.869141</td>\n      <td>17907.869141</td>\n      <td>114890000</td>\n      <td>1.183894</td>\n      <td>1.184806</td>\n      <td>1.175601</td>\n      <td>1.183600</td>\n      <td>1.183600</td>\n      <td>0.0</td>\n      <td>1207.000000</td>\n      <td>1215.699951</td>\n      <td>1206.300049</td>\n      <td>1208.400024</td>\n      <td>1208.400024</td>\n      <td>92.0</td>\n      <td>4689.540039</td>\n      <td>4741.379883</td>\n      <td>4688.020020</td>\n      <td>4736.189941</td>\n      <td>4736.189941</td>\n      <td>2105450000</td>\n      <td>17067.400391</td>\n      <td>17243.710938</td>\n      <td>17016.089844</td>\n      <td>17167.099609</td>\n      <td>17167.099609</td>\n      <td>140600.0</td>\n      <td>2.877</td>\n      <td>2.968</td>\n      <td>2.816</td>\n      <td>2.927</td>\n      <td>2.927</td>\n      <td>147797.0</td>\n      <td>10686.000000</td>\n      <td>10809.459961</td>\n      <td>10686.000000</td>\n      <td>10800.540039</td>\n      <td>10800.540039</td>\n      <td>3934010000</td>\n      <td>16.351000</td>\n      <td>16.351000</td>\n      <td>16.351000</td>\n      <td>16.351000</td>\n      <td>16.351000</td>\n      <td>0.0</td>\n      <td>2030.609985</td>\n      <td>2064.080078</td>\n      <td>2030.609985</td>\n      <td>2062.139893</td>\n      <td>2062.139893</td>\n      <td>3934010000</td>\n      <td>6.2040</td>\n      <td>6.2102</td>\n      <td>6.2035</td>\n      <td>6.2040</td>\n      <td>6.2040</td>\n      <td>0.0</td>\n    </tr>\n    <tr>\n      <th>4</th>\n      <td>4</td>\n      <td>2015-01-09</td>\n      <td>2015</td>\n      <td>1</td>\n      <td>9</td>\n      <td>0</td>\n      <td>4</td>\n      <td>2</td>\n      <td>2</td>\n      <td>48.919998</td>\n      <td>49.610001</td>\n      <td>47.160000</td>\n      <td>48.360001</td>\n      <td>48.360001</td>\n      <td>421007.0</td>\n      <td>17911.019531</td>\n      <td>17915.320313</td>\n      <td>17686.089844</td>\n      <td>17737.369141</td>\n      <td>17737.369141</td>\n      <td>93390000</td>\n      <td>1.179426</td>\n      <td>1.183830</td>\n      <td>1.176831</td>\n      <td>1.179607</td>\n      <td>1.179607</td>\n      <td>0.0</td>\n      <td>1211.099976</td>\n      <td>1220.199951</td>\n      <td>1210.300049</td>\n      <td>1216.000000</td>\n      <td>1216.000000</td>\n      <td>43.0</td>\n      <td>4744.470215</td>\n      <td>4744.709961</td>\n      <td>4681.240234</td>\n      <td>4704.069824</td>\n      <td>4704.069824</td>\n      <td>1715830000</td>\n      <td>17318.740234</td>\n      <td>17342.650391</td>\n      <td>17129.529297</td>\n      <td>17197.730469</td>\n      <td>17197.730469</td>\n      <td>155200.0</td>\n      <td>2.959</td>\n      <td>2.990</td>\n      <td>2.888</td>\n      <td>2.946</td>\n      <td>2.946</td>\n      <td>107333.0</td>\n      <td>10811.820313</td>\n      <td>10811.820313</td>\n      <td>10680.530273</td>\n      <td>10711.410156</td>\n      <td>10711.410156</td>\n      <td>3364140000</td>\n      <td>16.386000</td>\n      <td>16.386000</td>\n      <td>16.386000</td>\n      <td>16.386000</td>\n      <td>16.386000</td>\n      <td>0.0</td>\n      <td>2063.449951</td>\n      <td>2064.429932</td>\n      <td>2038.329956</td>\n      <td>2044.810059</td>\n      <td>2044.810059</td>\n      <td>3364140000</td>\n      <td>6.2035</td>\n      <td>6.2035</td>\n      <td>6.1972</td>\n      <td>6.2035</td>\n      <td>6.2035</td>\n      <td>0.0</td>\n    </tr>\n  </tbody>\n</table>\n</div>"
     },
     "metadata": {},
     "execution_count": 7
    }
   ],
   "source": [
    "indices.head()"
   ]
  },
  {
   "cell_type": "code",
   "execution_count": 44,
   "metadata": {},
   "outputs": [
    {
     "output_type": "execute_result",
     "data": {
      "text/plain": [
       "         Date   COILOpen   COILHigh    COILLow  COILClose  COILAdj Close  COILVolume       DJIOpen       DJIHigh        DJILow      DJIClose  DJIAdj Close  DJIVolume  EURUSDOpen  EURUSDHigh  EURUSDLow  EURUSDClose  EURUSDAdj Close  EURUSDVolume     GOLDOpen     GOLDHigh      GOLDLow    GOLDClose  GOLDAdj Close  GOLDVolume     IXICOpen     IXICHigh      IXICLow    IXICClose  IXICAdj Close  IXICVolume      N225Open      N225High       N225Low     N225Close  N225Adj Close  N225Volume  NGFOpen  NGFHigh  NGFLow  NGFClose  NGFAdj Close  NGFVolume       NYAOpen       NYAHigh        NYALow      NYAClose  NYAAdj Close   NYAVolume  SILVEROpen  SILVERHigh  SILVERLow  SILVERClose  SILVERAdj Close  SILVERVolume    SP500Open    SP500High     SP500Low   SP500Close  SP500Adj Close  SP500Volume  USDCNYOpen  USDCNYHigh  USDCNYLow  USDCNYClose  USDCNYAdj Close  USDCNYVolume\n",
       "0  2015-01-05  52.610001  52.730000  49.680000  50.040001      50.040001    375782.0  17821.300781  17821.300781  17475.929688  17501.650391  17501.650391  116160000    1.195500    1.197590   1.188909     1.194643         1.194643           0.0  1180.300049  1206.900024  1180.099976  1203.900024    1203.900024       470.0  4700.339844  4702.770020  4641.459961  4652.569824    4652.569824  1794470000  17325.679688  17540.919922  17219.220703  17408.710938   17408.710938    116500.0    3.076    3.176   2.875     2.882         2.882   141783.0  10764.370117  10764.370117  10588.049805  10607.679688  10607.679688  3799120000   16.179001   16.179001  16.179001    16.179001        16.179001           0.0  2054.439941  2054.439941  2017.339966  2020.579956     2020.579956   3799120000      6.1961      6.2090     6.1961       6.1961           6.1961           0.0\n",
       "1  2015-01-06  50.000000  50.369999  47.549999  47.930000      47.930000    451642.0  17504.179688  17581.050781  17262.369141  17371.640625  17371.640625  101870000    1.193830    1.197000   1.188693     1.193902         1.193902           0.0  1203.500000  1220.000000  1203.500000  1219.300049    1219.300049        97.0  4666.850098  4667.330078  4567.589844  4592.740234    4592.740234  2167320000  17101.580078  17111.359375  16881.730469  16883.189453   16883.189453    166000.0    2.921    2.955   2.811     2.938         2.938   111338.0  10610.780273  10647.209961  10457.889648  10514.870117  10514.870117  4460110000   16.603001   16.603001  16.603001    16.603001        16.603001           2.0  2022.150024  2030.250000  1992.439941  2002.609985     2002.609985   4460110000      6.2084      6.2084     6.1988       6.2084           6.2084           0.0\n",
       "2  2015-01-07  48.000000  49.310001  46.830002  48.650002      48.650002    460083.0  17374.779297  17597.080078  17374.779297  17584.519531  17584.519531   91030000    1.187479    1.190000   1.180401     1.187536         1.187536           0.0  1219.199951  1219.199951  1210.599976  1210.599976    1210.599976        29.0  4626.839844  4652.720215  4613.899902  4650.470215    4650.470215  1957950000  16808.259766  16974.609375  16808.259766  16885.330078   16885.330078    138600.0    2.949    3.012   2.825     2.871         2.871   134826.0  10514.480469  10638.740234  10514.480469  10627.129883  10627.129883  3805480000   16.480000   16.549999  16.480000    16.510000        16.510000           9.0  2005.550049  2029.609985  2005.550049  2025.900024     2025.900024   3805480000      6.2020      6.2040     6.1976       6.2020           6.2020           0.0\n",
       "3  2015-01-08  48.779999  49.650002  47.730000  48.790001      48.790001    362081.0  17591.970703  17916.039063  17591.970703  17907.869141  17907.869141  114890000    1.183894    1.184806   1.175601     1.183600         1.183600           0.0  1207.000000  1215.699951  1206.300049  1208.400024    1208.400024        92.0  4689.540039  4741.379883  4688.020020  4736.189941    4736.189941  2105450000  17067.400391  17243.710938  17016.089844  17167.099609   17167.099609    140600.0    2.877    2.968   2.816     2.927         2.927   147797.0  10686.000000  10809.459961  10686.000000  10800.540039  10800.540039  3934010000   16.351000   16.351000  16.351000    16.351000        16.351000           0.0  2030.609985  2064.080078  2030.609985  2062.139893     2062.139893   3934010000      6.2040      6.2102     6.2035       6.2040           6.2040           0.0\n",
       "4  2015-01-09  48.919998  49.610001  47.160000  48.360001      48.360001    421007.0  17911.019531  17915.320313  17686.089844  17737.369141  17737.369141   93390000    1.179426    1.183830   1.176831     1.179607         1.179607           0.0  1211.099976  1220.199951  1210.300049  1216.000000    1216.000000        43.0  4744.470215  4744.709961  4681.240234  4704.069824    4704.069824  1715830000  17318.740234  17342.650391  17129.529297  17197.730469   17197.730469    155200.0    2.959    2.990   2.888     2.946         2.946   107333.0  10811.820313  10811.820313  10680.530273  10711.410156  10711.410156  3364140000   16.386000   16.386000  16.386000    16.386000        16.386000           0.0  2063.449951  2064.429932  2038.329956  2044.810059     2044.810059   3364140000      6.2035      6.2035     6.1972       6.2035           6.2035           0.0"
      ],
      "text/html": "<div>\n<style scoped>\n    .dataframe tbody tr th:only-of-type {\n        vertical-align: middle;\n    }\n\n    .dataframe tbody tr th {\n        vertical-align: top;\n    }\n\n    .dataframe thead th {\n        text-align: right;\n    }\n</style>\n<table border=\"1\" class=\"dataframe\">\n  <thead>\n    <tr style=\"text-align: right;\">\n      <th></th>\n      <th>Date</th>\n      <th>COILOpen</th>\n      <th>COILHigh</th>\n      <th>COILLow</th>\n      <th>COILClose</th>\n      <th>COILAdj Close</th>\n      <th>COILVolume</th>\n      <th>DJIOpen</th>\n      <th>DJIHigh</th>\n      <th>DJILow</th>\n      <th>DJIClose</th>\n      <th>DJIAdj Close</th>\n      <th>DJIVolume</th>\n      <th>EURUSDOpen</th>\n      <th>EURUSDHigh</th>\n      <th>EURUSDLow</th>\n      <th>EURUSDClose</th>\n      <th>EURUSDAdj Close</th>\n      <th>EURUSDVolume</th>\n      <th>GOLDOpen</th>\n      <th>GOLDHigh</th>\n      <th>GOLDLow</th>\n      <th>GOLDClose</th>\n      <th>GOLDAdj Close</th>\n      <th>GOLDVolume</th>\n      <th>IXICOpen</th>\n      <th>IXICHigh</th>\n      <th>IXICLow</th>\n      <th>IXICClose</th>\n      <th>IXICAdj Close</th>\n      <th>IXICVolume</th>\n      <th>N225Open</th>\n      <th>N225High</th>\n      <th>N225Low</th>\n      <th>N225Close</th>\n      <th>N225Adj Close</th>\n      <th>N225Volume</th>\n      <th>NGFOpen</th>\n      <th>NGFHigh</th>\n      <th>NGFLow</th>\n      <th>NGFClose</th>\n      <th>NGFAdj Close</th>\n      <th>NGFVolume</th>\n      <th>NYAOpen</th>\n      <th>NYAHigh</th>\n      <th>NYALow</th>\n      <th>NYAClose</th>\n      <th>NYAAdj Close</th>\n      <th>NYAVolume</th>\n      <th>SILVEROpen</th>\n      <th>SILVERHigh</th>\n      <th>SILVERLow</th>\n      <th>SILVERClose</th>\n      <th>SILVERAdj Close</th>\n      <th>SILVERVolume</th>\n      <th>SP500Open</th>\n      <th>SP500High</th>\n      <th>SP500Low</th>\n      <th>SP500Close</th>\n      <th>SP500Adj Close</th>\n      <th>SP500Volume</th>\n      <th>USDCNYOpen</th>\n      <th>USDCNYHigh</th>\n      <th>USDCNYLow</th>\n      <th>USDCNYClose</th>\n      <th>USDCNYAdj Close</th>\n      <th>USDCNYVolume</th>\n    </tr>\n  </thead>\n  <tbody>\n    <tr>\n      <th>0</th>\n      <td>2015-01-05</td>\n      <td>52.610001</td>\n      <td>52.730000</td>\n      <td>49.680000</td>\n      <td>50.040001</td>\n      <td>50.040001</td>\n      <td>375782.0</td>\n      <td>17821.300781</td>\n      <td>17821.300781</td>\n      <td>17475.929688</td>\n      <td>17501.650391</td>\n      <td>17501.650391</td>\n      <td>116160000</td>\n      <td>1.195500</td>\n      <td>1.197590</td>\n      <td>1.188909</td>\n      <td>1.194643</td>\n      <td>1.194643</td>\n      <td>0.0</td>\n      <td>1180.300049</td>\n      <td>1206.900024</td>\n      <td>1180.099976</td>\n      <td>1203.900024</td>\n      <td>1203.900024</td>\n      <td>470.0</td>\n      <td>4700.339844</td>\n      <td>4702.770020</td>\n      <td>4641.459961</td>\n      <td>4652.569824</td>\n      <td>4652.569824</td>\n      <td>1794470000</td>\n      <td>17325.679688</td>\n      <td>17540.919922</td>\n      <td>17219.220703</td>\n      <td>17408.710938</td>\n      <td>17408.710938</td>\n      <td>116500.0</td>\n      <td>3.076</td>\n      <td>3.176</td>\n      <td>2.875</td>\n      <td>2.882</td>\n      <td>2.882</td>\n      <td>141783.0</td>\n      <td>10764.370117</td>\n      <td>10764.370117</td>\n      <td>10588.049805</td>\n      <td>10607.679688</td>\n      <td>10607.679688</td>\n      <td>3799120000</td>\n      <td>16.179001</td>\n      <td>16.179001</td>\n      <td>16.179001</td>\n      <td>16.179001</td>\n      <td>16.179001</td>\n      <td>0.0</td>\n      <td>2054.439941</td>\n      <td>2054.439941</td>\n      <td>2017.339966</td>\n      <td>2020.579956</td>\n      <td>2020.579956</td>\n      <td>3799120000</td>\n      <td>6.1961</td>\n      <td>6.2090</td>\n      <td>6.1961</td>\n      <td>6.1961</td>\n      <td>6.1961</td>\n      <td>0.0</td>\n    </tr>\n    <tr>\n      <th>1</th>\n      <td>2015-01-06</td>\n      <td>50.000000</td>\n      <td>50.369999</td>\n      <td>47.549999</td>\n      <td>47.930000</td>\n      <td>47.930000</td>\n      <td>451642.0</td>\n      <td>17504.179688</td>\n      <td>17581.050781</td>\n      <td>17262.369141</td>\n      <td>17371.640625</td>\n      <td>17371.640625</td>\n      <td>101870000</td>\n      <td>1.193830</td>\n      <td>1.197000</td>\n      <td>1.188693</td>\n      <td>1.193902</td>\n      <td>1.193902</td>\n      <td>0.0</td>\n      <td>1203.500000</td>\n      <td>1220.000000</td>\n      <td>1203.500000</td>\n      <td>1219.300049</td>\n      <td>1219.300049</td>\n      <td>97.0</td>\n      <td>4666.850098</td>\n      <td>4667.330078</td>\n      <td>4567.589844</td>\n      <td>4592.740234</td>\n      <td>4592.740234</td>\n      <td>2167320000</td>\n      <td>17101.580078</td>\n      <td>17111.359375</td>\n      <td>16881.730469</td>\n      <td>16883.189453</td>\n      <td>16883.189453</td>\n      <td>166000.0</td>\n      <td>2.921</td>\n      <td>2.955</td>\n      <td>2.811</td>\n      <td>2.938</td>\n      <td>2.938</td>\n      <td>111338.0</td>\n      <td>10610.780273</td>\n      <td>10647.209961</td>\n      <td>10457.889648</td>\n      <td>10514.870117</td>\n      <td>10514.870117</td>\n      <td>4460110000</td>\n      <td>16.603001</td>\n      <td>16.603001</td>\n      <td>16.603001</td>\n      <td>16.603001</td>\n      <td>16.603001</td>\n      <td>2.0</td>\n      <td>2022.150024</td>\n      <td>2030.250000</td>\n      <td>1992.439941</td>\n      <td>2002.609985</td>\n      <td>2002.609985</td>\n      <td>4460110000</td>\n      <td>6.2084</td>\n      <td>6.2084</td>\n      <td>6.1988</td>\n      <td>6.2084</td>\n      <td>6.2084</td>\n      <td>0.0</td>\n    </tr>\n    <tr>\n      <th>2</th>\n      <td>2015-01-07</td>\n      <td>48.000000</td>\n      <td>49.310001</td>\n      <td>46.830002</td>\n      <td>48.650002</td>\n      <td>48.650002</td>\n      <td>460083.0</td>\n      <td>17374.779297</td>\n      <td>17597.080078</td>\n      <td>17374.779297</td>\n      <td>17584.519531</td>\n      <td>17584.519531</td>\n      <td>91030000</td>\n      <td>1.187479</td>\n      <td>1.190000</td>\n      <td>1.180401</td>\n      <td>1.187536</td>\n      <td>1.187536</td>\n      <td>0.0</td>\n      <td>1219.199951</td>\n      <td>1219.199951</td>\n      <td>1210.599976</td>\n      <td>1210.599976</td>\n      <td>1210.599976</td>\n      <td>29.0</td>\n      <td>4626.839844</td>\n      <td>4652.720215</td>\n      <td>4613.899902</td>\n      <td>4650.470215</td>\n      <td>4650.470215</td>\n      <td>1957950000</td>\n      <td>16808.259766</td>\n      <td>16974.609375</td>\n      <td>16808.259766</td>\n      <td>16885.330078</td>\n      <td>16885.330078</td>\n      <td>138600.0</td>\n      <td>2.949</td>\n      <td>3.012</td>\n      <td>2.825</td>\n      <td>2.871</td>\n      <td>2.871</td>\n      <td>134826.0</td>\n      <td>10514.480469</td>\n      <td>10638.740234</td>\n      <td>10514.480469</td>\n      <td>10627.129883</td>\n      <td>10627.129883</td>\n      <td>3805480000</td>\n      <td>16.480000</td>\n      <td>16.549999</td>\n      <td>16.480000</td>\n      <td>16.510000</td>\n      <td>16.510000</td>\n      <td>9.0</td>\n      <td>2005.550049</td>\n      <td>2029.609985</td>\n      <td>2005.550049</td>\n      <td>2025.900024</td>\n      <td>2025.900024</td>\n      <td>3805480000</td>\n      <td>6.2020</td>\n      <td>6.2040</td>\n      <td>6.1976</td>\n      <td>6.2020</td>\n      <td>6.2020</td>\n      <td>0.0</td>\n    </tr>\n    <tr>\n      <th>3</th>\n      <td>2015-01-08</td>\n      <td>48.779999</td>\n      <td>49.650002</td>\n      <td>47.730000</td>\n      <td>48.790001</td>\n      <td>48.790001</td>\n      <td>362081.0</td>\n      <td>17591.970703</td>\n      <td>17916.039063</td>\n      <td>17591.970703</td>\n      <td>17907.869141</td>\n      <td>17907.869141</td>\n      <td>114890000</td>\n      <td>1.183894</td>\n      <td>1.184806</td>\n      <td>1.175601</td>\n      <td>1.183600</td>\n      <td>1.183600</td>\n      <td>0.0</td>\n      <td>1207.000000</td>\n      <td>1215.699951</td>\n      <td>1206.300049</td>\n      <td>1208.400024</td>\n      <td>1208.400024</td>\n      <td>92.0</td>\n      <td>4689.540039</td>\n      <td>4741.379883</td>\n      <td>4688.020020</td>\n      <td>4736.189941</td>\n      <td>4736.189941</td>\n      <td>2105450000</td>\n      <td>17067.400391</td>\n      <td>17243.710938</td>\n      <td>17016.089844</td>\n      <td>17167.099609</td>\n      <td>17167.099609</td>\n      <td>140600.0</td>\n      <td>2.877</td>\n      <td>2.968</td>\n      <td>2.816</td>\n      <td>2.927</td>\n      <td>2.927</td>\n      <td>147797.0</td>\n      <td>10686.000000</td>\n      <td>10809.459961</td>\n      <td>10686.000000</td>\n      <td>10800.540039</td>\n      <td>10800.540039</td>\n      <td>3934010000</td>\n      <td>16.351000</td>\n      <td>16.351000</td>\n      <td>16.351000</td>\n      <td>16.351000</td>\n      <td>16.351000</td>\n      <td>0.0</td>\n      <td>2030.609985</td>\n      <td>2064.080078</td>\n      <td>2030.609985</td>\n      <td>2062.139893</td>\n      <td>2062.139893</td>\n      <td>3934010000</td>\n      <td>6.2040</td>\n      <td>6.2102</td>\n      <td>6.2035</td>\n      <td>6.2040</td>\n      <td>6.2040</td>\n      <td>0.0</td>\n    </tr>\n    <tr>\n      <th>4</th>\n      <td>2015-01-09</td>\n      <td>48.919998</td>\n      <td>49.610001</td>\n      <td>47.160000</td>\n      <td>48.360001</td>\n      <td>48.360001</td>\n      <td>421007.0</td>\n      <td>17911.019531</td>\n      <td>17915.320313</td>\n      <td>17686.089844</td>\n      <td>17737.369141</td>\n      <td>17737.369141</td>\n      <td>93390000</td>\n      <td>1.179426</td>\n      <td>1.183830</td>\n      <td>1.176831</td>\n      <td>1.179607</td>\n      <td>1.179607</td>\n      <td>0.0</td>\n      <td>1211.099976</td>\n      <td>1220.199951</td>\n      <td>1210.300049</td>\n      <td>1216.000000</td>\n      <td>1216.000000</td>\n      <td>43.0</td>\n      <td>4744.470215</td>\n      <td>4744.709961</td>\n      <td>4681.240234</td>\n      <td>4704.069824</td>\n      <td>4704.069824</td>\n      <td>1715830000</td>\n      <td>17318.740234</td>\n      <td>17342.650391</td>\n      <td>17129.529297</td>\n      <td>17197.730469</td>\n      <td>17197.730469</td>\n      <td>155200.0</td>\n      <td>2.959</td>\n      <td>2.990</td>\n      <td>2.888</td>\n      <td>2.946</td>\n      <td>2.946</td>\n      <td>107333.0</td>\n      <td>10811.820313</td>\n      <td>10811.820313</td>\n      <td>10680.530273</td>\n      <td>10711.410156</td>\n      <td>10711.410156</td>\n      <td>3364140000</td>\n      <td>16.386000</td>\n      <td>16.386000</td>\n      <td>16.386000</td>\n      <td>16.386000</td>\n      <td>16.386000</td>\n      <td>0.0</td>\n      <td>2063.449951</td>\n      <td>2064.429932</td>\n      <td>2038.329956</td>\n      <td>2044.810059</td>\n      <td>2044.810059</td>\n      <td>3364140000</td>\n      <td>6.2035</td>\n      <td>6.2035</td>\n      <td>6.1972</td>\n      <td>6.2035</td>\n      <td>6.2035</td>\n      <td>0.0</td>\n    </tr>\n  </tbody>\n</table>\n</div>"
     },
     "metadata": {},
     "execution_count": 44
    }
   ],
   "source": [
    "indices = pd.concat([indices[['Date']],indices.iloc[:,9:]],axis = 1)\n",
    "indices.head()"
   ]
  },
  {
   "cell_type": "code",
   "execution_count": 70,
   "metadata": {},
   "outputs": [
    {
     "output_type": "execute_result",
     "data": {
      "text/plain": [
       "         Date       High        Low       Open      Close       Volume  Adj Close      ema10      ema20      ema75      macd  macd_signal_line        rsi        L14        H14         %K         %D  name   COILOpen   COILHigh    COILLow  COILClose  COILAdj Close  COILVolume       DJIOpen       DJIHigh        DJILow      DJIClose  DJIAdj Close    DJIVolume  EURUSDOpen  EURUSDHigh  EURUSDLow  EURUSDClose  EURUSDAdj Close  EURUSDVolume     GOLDOpen     GOLDHigh      GOLDLow    GOLDClose  GOLDAdj Close  GOLDVolume     IXICOpen     IXICHigh      IXICLow    IXICClose  IXICAdj Close    IXICVolume      N225Open      N225High       N225Low     N225Close  N225Adj Close  N225Volume  NGFOpen  NGFHigh  NGFLow  NGFClose  NGFAdj Close  NGFVolume       NYAOpen       NYAHigh        NYALow      NYAClose  NYAAdj Close     NYAVolume  SILVEROpen  SILVERHigh  SILVERLow  SILVERClose  SILVERAdj Close  SILVERVolume    SP500Open    SP500High     SP500Low   SP500Close  SP500Adj Close   SP500Volume  USDCNYOpen  \\\n",
       "0  2015-01-22  28.117500  27.430000  27.565001  28.100000  215185600.0  25.597706  24.955144  25.045723  25.371346 -0.144608         -0.192319  54.163214  26.157499  28.312500  90.139232  63.747240  AAPL  47.349998  49.090000  45.869999  46.310001      46.310001    426829.0  17557.289063  17840.890625  17482.539063  17813.980469  17813.980469  111980000.0    1.161697    1.164289   1.141400     1.161535         1.161535           0.0  1293.199951  1302.099976  1283.500000  1300.699951    1300.699951       131.0  4690.930176  4752.600098  4644.569824  4750.399902    4750.399902  1.996550e+09  17306.640625  17355.740234  17229.210938  17329.019531   17329.019531    121900.0    3.000    3.048   2.766     2.835         2.835   169450.0  10753.580078  10869.000000  10699.730469  10859.349609  10859.349609  4.176050e+09   18.346001   18.346001  18.346001    18.346001        18.346001           0.0  2034.300049  2064.620117  2026.380005  2063.149902     2063.149902  4.176050e+09      6.2017   \n",
       "1  2015-01-23  28.437500  27.882500  28.075001  28.245001  185859200.0  25.729790  25.095989  25.110872  25.380778 -0.072844         -0.168424  57.671228  26.157499  28.437500  91.557057  79.590968  AAPL  46.630001  47.759998  45.209999  45.590000      45.590000    374289.0  17812.500000  17812.500000  17667.529297  17672.599609  17672.599609   97110000.0    1.134649    1.137398   1.112180     1.134675         1.134675           0.0  1299.800049  1299.800049  1292.599976  1292.599976    1292.599976        23.0  4748.189941  4771.180176  4737.950195  4757.879883    4757.879883  1.653830e+09  17520.630859  17532.060547  17460.759766  17511.750000   17511.750000    132500.0    2.858    2.994   2.855     2.986         2.986    99068.0  10854.230469  10854.230469  10784.570313  10788.330078  10788.330078  3.573560e+09   18.315001   18.355000  18.284000    18.284000        18.284000          20.0  2062.979980  2062.979980  2050.540039  2051.820068     2051.820068  3.573560e+09      6.1990   \n",
       "2  2015-01-26  28.590000  28.200001  28.434999  28.275000  222460000.0  25.757124  25.216195  25.172420  25.390682 -0.013608         -0.137461  66.442618  26.157499  28.590000  87.050342  89.582210  AAPL  45.200001  46.410000  44.349998  45.150002      45.150002    310638.0  17668.109375  17696.359375  17567.599609  17678.699219  17678.699219   87220000.0    1.114082    1.128399   1.114082     1.112545         1.112545           0.0  1289.500000  1290.599976  1279.400024  1279.400024    1279.400024        26.0  4752.359863  4774.180176  4734.200195  4771.759766    4771.759766  1.717510e+09  17285.710938  17471.939453  17285.710938  17468.519531   17468.519531    111600.0    2.897    2.955   2.841     2.881         2.881    62580.0  10787.299805  10848.040039  10748.730469  10847.150391  10847.150391  3.465760e+09   17.966999   17.966999  17.966999    17.966999        17.966999           0.0  2050.419922  2057.620117  2040.969971  2057.090088     2057.090088  3.465760e+09      6.2179   \n",
       "3  2015-01-27  28.120001  27.257500  28.105000  27.285000  382274800.0  24.855284  25.150575  25.142216  25.376593 -0.038984         -0.117766  55.811122  26.299999  28.590000  43.013110  73.873503  AAPL  45.130001  46.549999  44.810001  46.230000      46.230000    313141.0  17638.529297  17638.529297  17288.310547  17387.210938  17387.210938  135940000.0    1.125100    1.142000   1.122600     1.124771         1.124771           0.0  1277.199951  1291.699951  1277.199951  1291.699951    1291.699951        20.0  4698.229980  4721.870117  4659.830078  4681.500000    4681.500000  1.954160e+09  17649.400391  17768.410156  17633.470703  17768.300781   17768.300781    139700.0    2.895    3.005   2.888     2.981         2.981    55623.0  10793.040039  10830.200195  10718.849609  10781.830078  10781.830078  3.329810e+09   18.110001   18.110001  18.068001    18.068001        18.068001          10.0  2047.859985  2047.859985  2019.910034  2029.550049     2029.550049  3.329810e+09      6.2458   \n",
       "4  2015-01-28  29.530001  28.827499  29.407499  28.827499  585908400.0  26.260420  25.352365  25.248712  25.399851  0.053669         -0.083479  62.830907  26.299999  29.530001  78.250744  69.438065  AAPL  45.830002  45.830002  44.080002  44.450001      44.450001    365440.0  17402.910156  17484.410156  17189.000000  17191.369141  17191.369141  115980000.0    1.136699    1.138200   1.130780     1.136738         1.136738           0.0  1285.900024  1286.800049  1285.900024  1285.900024    1285.900024    180387.0  4740.689941  4742.060059  4637.479980  4637.990234    4637.990234  2.118680e+09  17615.929688  17850.589844  17615.929688  17795.730469   17795.730469    141900.0    2.917    2.930   2.828     2.866         2.866   127186.0  10797.230469  10804.169922  10596.879883  10603.860352  10603.860352  4.067530e+09   18.068001   18.068001  18.068001    18.068001        18.068001         166.0  2032.339966  2042.489990  2001.489990  2002.160034     2002.160034  4.067530e+09      6.2351   \n",
       "\n",
       "   USDCNYHigh  USDCNYLow  USDCNYClose  USDCNYAdj Close  USDCNYVolume  compound  GGTrendAllTimeMonthly  \n",
       "0      6.2020     6.1986       6.2017           6.2017           0.0       NaN                    NaN  \n",
       "1      6.2179     6.1990       6.1990           6.1990           0.0       NaN                    NaN  \n",
       "2      6.2458     6.2179       6.2179           6.2179           0.0       NaN                    NaN  \n",
       "3      6.2458     6.2351       6.2458           6.2458           0.0       NaN                    NaN  \n",
       "4      6.2365     6.2302       6.2351           6.2351           0.0       NaN                    NaN  "
      ],
      "text/html": "<div>\n<style scoped>\n    .dataframe tbody tr th:only-of-type {\n        vertical-align: middle;\n    }\n\n    .dataframe tbody tr th {\n        vertical-align: top;\n    }\n\n    .dataframe thead th {\n        text-align: right;\n    }\n</style>\n<table border=\"1\" class=\"dataframe\">\n  <thead>\n    <tr style=\"text-align: right;\">\n      <th></th>\n      <th>Date</th>\n      <th>High</th>\n      <th>Low</th>\n      <th>Open</th>\n      <th>Close</th>\n      <th>Volume</th>\n      <th>Adj Close</th>\n      <th>ema10</th>\n      <th>ema20</th>\n      <th>ema75</th>\n      <th>macd</th>\n      <th>macd_signal_line</th>\n      <th>rsi</th>\n      <th>L14</th>\n      <th>H14</th>\n      <th>%K</th>\n      <th>%D</th>\n      <th>name</th>\n      <th>COILOpen</th>\n      <th>COILHigh</th>\n      <th>COILLow</th>\n      <th>COILClose</th>\n      <th>COILAdj Close</th>\n      <th>COILVolume</th>\n      <th>DJIOpen</th>\n      <th>DJIHigh</th>\n      <th>DJILow</th>\n      <th>DJIClose</th>\n      <th>DJIAdj Close</th>\n      <th>DJIVolume</th>\n      <th>EURUSDOpen</th>\n      <th>EURUSDHigh</th>\n      <th>EURUSDLow</th>\n      <th>EURUSDClose</th>\n      <th>EURUSDAdj Close</th>\n      <th>EURUSDVolume</th>\n      <th>GOLDOpen</th>\n      <th>GOLDHigh</th>\n      <th>GOLDLow</th>\n      <th>GOLDClose</th>\n      <th>GOLDAdj Close</th>\n      <th>GOLDVolume</th>\n      <th>IXICOpen</th>\n      <th>IXICHigh</th>\n      <th>IXICLow</th>\n      <th>IXICClose</th>\n      <th>IXICAdj Close</th>\n      <th>IXICVolume</th>\n      <th>N225Open</th>\n      <th>N225High</th>\n      <th>N225Low</th>\n      <th>N225Close</th>\n      <th>N225Adj Close</th>\n      <th>N225Volume</th>\n      <th>NGFOpen</th>\n      <th>NGFHigh</th>\n      <th>NGFLow</th>\n      <th>NGFClose</th>\n      <th>NGFAdj Close</th>\n      <th>NGFVolume</th>\n      <th>NYAOpen</th>\n      <th>NYAHigh</th>\n      <th>NYALow</th>\n      <th>NYAClose</th>\n      <th>NYAAdj Close</th>\n      <th>NYAVolume</th>\n      <th>SILVEROpen</th>\n      <th>SILVERHigh</th>\n      <th>SILVERLow</th>\n      <th>SILVERClose</th>\n      <th>SILVERAdj Close</th>\n      <th>SILVERVolume</th>\n      <th>SP500Open</th>\n      <th>SP500High</th>\n      <th>SP500Low</th>\n      <th>SP500Close</th>\n      <th>SP500Adj Close</th>\n      <th>SP500Volume</th>\n      <th>USDCNYOpen</th>\n      <th>USDCNYHigh</th>\n      <th>USDCNYLow</th>\n      <th>USDCNYClose</th>\n      <th>USDCNYAdj Close</th>\n      <th>USDCNYVolume</th>\n      <th>compound</th>\n      <th>GGTrendAllTimeMonthly</th>\n    </tr>\n  </thead>\n  <tbody>\n    <tr>\n      <th>0</th>\n      <td>2015-01-22</td>\n      <td>28.117500</td>\n      <td>27.430000</td>\n      <td>27.565001</td>\n      <td>28.100000</td>\n      <td>215185600.0</td>\n      <td>25.597706</td>\n      <td>24.955144</td>\n      <td>25.045723</td>\n      <td>25.371346</td>\n      <td>-0.144608</td>\n      <td>-0.192319</td>\n      <td>54.163214</td>\n      <td>26.157499</td>\n      <td>28.312500</td>\n      <td>90.139232</td>\n      <td>63.747240</td>\n      <td>AAPL</td>\n      <td>47.349998</td>\n      <td>49.090000</td>\n      <td>45.869999</td>\n      <td>46.310001</td>\n      <td>46.310001</td>\n      <td>426829.0</td>\n      <td>17557.289063</td>\n      <td>17840.890625</td>\n      <td>17482.539063</td>\n      <td>17813.980469</td>\n      <td>17813.980469</td>\n      <td>111980000.0</td>\n      <td>1.161697</td>\n      <td>1.164289</td>\n      <td>1.141400</td>\n      <td>1.161535</td>\n      <td>1.161535</td>\n      <td>0.0</td>\n      <td>1293.199951</td>\n      <td>1302.099976</td>\n      <td>1283.500000</td>\n      <td>1300.699951</td>\n      <td>1300.699951</td>\n      <td>131.0</td>\n      <td>4690.930176</td>\n      <td>4752.600098</td>\n      <td>4644.569824</td>\n      <td>4750.399902</td>\n      <td>4750.399902</td>\n      <td>1.996550e+09</td>\n      <td>17306.640625</td>\n      <td>17355.740234</td>\n      <td>17229.210938</td>\n      <td>17329.019531</td>\n      <td>17329.019531</td>\n      <td>121900.0</td>\n      <td>3.000</td>\n      <td>3.048</td>\n      <td>2.766</td>\n      <td>2.835</td>\n      <td>2.835</td>\n      <td>169450.0</td>\n      <td>10753.580078</td>\n      <td>10869.000000</td>\n      <td>10699.730469</td>\n      <td>10859.349609</td>\n      <td>10859.349609</td>\n      <td>4.176050e+09</td>\n      <td>18.346001</td>\n      <td>18.346001</td>\n      <td>18.346001</td>\n      <td>18.346001</td>\n      <td>18.346001</td>\n      <td>0.0</td>\n      <td>2034.300049</td>\n      <td>2064.620117</td>\n      <td>2026.380005</td>\n      <td>2063.149902</td>\n      <td>2063.149902</td>\n      <td>4.176050e+09</td>\n      <td>6.2017</td>\n      <td>6.2020</td>\n      <td>6.1986</td>\n      <td>6.2017</td>\n      <td>6.2017</td>\n      <td>0.0</td>\n      <td>NaN</td>\n      <td>NaN</td>\n    </tr>\n    <tr>\n      <th>1</th>\n      <td>2015-01-23</td>\n      <td>28.437500</td>\n      <td>27.882500</td>\n      <td>28.075001</td>\n      <td>28.245001</td>\n      <td>185859200.0</td>\n      <td>25.729790</td>\n      <td>25.095989</td>\n      <td>25.110872</td>\n      <td>25.380778</td>\n      <td>-0.072844</td>\n      <td>-0.168424</td>\n      <td>57.671228</td>\n      <td>26.157499</td>\n      <td>28.437500</td>\n      <td>91.557057</td>\n      <td>79.590968</td>\n      <td>AAPL</td>\n      <td>46.630001</td>\n      <td>47.759998</td>\n      <td>45.209999</td>\n      <td>45.590000</td>\n      <td>45.590000</td>\n      <td>374289.0</td>\n      <td>17812.500000</td>\n      <td>17812.500000</td>\n      <td>17667.529297</td>\n      <td>17672.599609</td>\n      <td>17672.599609</td>\n      <td>97110000.0</td>\n      <td>1.134649</td>\n      <td>1.137398</td>\n      <td>1.112180</td>\n      <td>1.134675</td>\n      <td>1.134675</td>\n      <td>0.0</td>\n      <td>1299.800049</td>\n      <td>1299.800049</td>\n      <td>1292.599976</td>\n      <td>1292.599976</td>\n      <td>1292.599976</td>\n      <td>23.0</td>\n      <td>4748.189941</td>\n      <td>4771.180176</td>\n      <td>4737.950195</td>\n      <td>4757.879883</td>\n      <td>4757.879883</td>\n      <td>1.653830e+09</td>\n      <td>17520.630859</td>\n      <td>17532.060547</td>\n      <td>17460.759766</td>\n      <td>17511.750000</td>\n      <td>17511.750000</td>\n      <td>132500.0</td>\n      <td>2.858</td>\n      <td>2.994</td>\n      <td>2.855</td>\n      <td>2.986</td>\n      <td>2.986</td>\n      <td>99068.0</td>\n      <td>10854.230469</td>\n      <td>10854.230469</td>\n      <td>10784.570313</td>\n      <td>10788.330078</td>\n      <td>10788.330078</td>\n      <td>3.573560e+09</td>\n      <td>18.315001</td>\n      <td>18.355000</td>\n      <td>18.284000</td>\n      <td>18.284000</td>\n      <td>18.284000</td>\n      <td>20.0</td>\n      <td>2062.979980</td>\n      <td>2062.979980</td>\n      <td>2050.540039</td>\n      <td>2051.820068</td>\n      <td>2051.820068</td>\n      <td>3.573560e+09</td>\n      <td>6.1990</td>\n      <td>6.2179</td>\n      <td>6.1990</td>\n      <td>6.1990</td>\n      <td>6.1990</td>\n      <td>0.0</td>\n      <td>NaN</td>\n      <td>NaN</td>\n    </tr>\n    <tr>\n      <th>2</th>\n      <td>2015-01-26</td>\n      <td>28.590000</td>\n      <td>28.200001</td>\n      <td>28.434999</td>\n      <td>28.275000</td>\n      <td>222460000.0</td>\n      <td>25.757124</td>\n      <td>25.216195</td>\n      <td>25.172420</td>\n      <td>25.390682</td>\n      <td>-0.013608</td>\n      <td>-0.137461</td>\n      <td>66.442618</td>\n      <td>26.157499</td>\n      <td>28.590000</td>\n      <td>87.050342</td>\n      <td>89.582210</td>\n      <td>AAPL</td>\n      <td>45.200001</td>\n      <td>46.410000</td>\n      <td>44.349998</td>\n      <td>45.150002</td>\n      <td>45.150002</td>\n      <td>310638.0</td>\n      <td>17668.109375</td>\n      <td>17696.359375</td>\n      <td>17567.599609</td>\n      <td>17678.699219</td>\n      <td>17678.699219</td>\n      <td>87220000.0</td>\n      <td>1.114082</td>\n      <td>1.128399</td>\n      <td>1.114082</td>\n      <td>1.112545</td>\n      <td>1.112545</td>\n      <td>0.0</td>\n      <td>1289.500000</td>\n      <td>1290.599976</td>\n      <td>1279.400024</td>\n      <td>1279.400024</td>\n      <td>1279.400024</td>\n      <td>26.0</td>\n      <td>4752.359863</td>\n      <td>4774.180176</td>\n      <td>4734.200195</td>\n      <td>4771.759766</td>\n      <td>4771.759766</td>\n      <td>1.717510e+09</td>\n      <td>17285.710938</td>\n      <td>17471.939453</td>\n      <td>17285.710938</td>\n      <td>17468.519531</td>\n      <td>17468.519531</td>\n      <td>111600.0</td>\n      <td>2.897</td>\n      <td>2.955</td>\n      <td>2.841</td>\n      <td>2.881</td>\n      <td>2.881</td>\n      <td>62580.0</td>\n      <td>10787.299805</td>\n      <td>10848.040039</td>\n      <td>10748.730469</td>\n      <td>10847.150391</td>\n      <td>10847.150391</td>\n      <td>3.465760e+09</td>\n      <td>17.966999</td>\n      <td>17.966999</td>\n      <td>17.966999</td>\n      <td>17.966999</td>\n      <td>17.966999</td>\n      <td>0.0</td>\n      <td>2050.419922</td>\n      <td>2057.620117</td>\n      <td>2040.969971</td>\n      <td>2057.090088</td>\n      <td>2057.090088</td>\n      <td>3.465760e+09</td>\n      <td>6.2179</td>\n      <td>6.2458</td>\n      <td>6.2179</td>\n      <td>6.2179</td>\n      <td>6.2179</td>\n      <td>0.0</td>\n      <td>NaN</td>\n      <td>NaN</td>\n    </tr>\n    <tr>\n      <th>3</th>\n      <td>2015-01-27</td>\n      <td>28.120001</td>\n      <td>27.257500</td>\n      <td>28.105000</td>\n      <td>27.285000</td>\n      <td>382274800.0</td>\n      <td>24.855284</td>\n      <td>25.150575</td>\n      <td>25.142216</td>\n      <td>25.376593</td>\n      <td>-0.038984</td>\n      <td>-0.117766</td>\n      <td>55.811122</td>\n      <td>26.299999</td>\n      <td>28.590000</td>\n      <td>43.013110</td>\n      <td>73.873503</td>\n      <td>AAPL</td>\n      <td>45.130001</td>\n      <td>46.549999</td>\n      <td>44.810001</td>\n      <td>46.230000</td>\n      <td>46.230000</td>\n      <td>313141.0</td>\n      <td>17638.529297</td>\n      <td>17638.529297</td>\n      <td>17288.310547</td>\n      <td>17387.210938</td>\n      <td>17387.210938</td>\n      <td>135940000.0</td>\n      <td>1.125100</td>\n      <td>1.142000</td>\n      <td>1.122600</td>\n      <td>1.124771</td>\n      <td>1.124771</td>\n      <td>0.0</td>\n      <td>1277.199951</td>\n      <td>1291.699951</td>\n      <td>1277.199951</td>\n      <td>1291.699951</td>\n      <td>1291.699951</td>\n      <td>20.0</td>\n      <td>4698.229980</td>\n      <td>4721.870117</td>\n      <td>4659.830078</td>\n      <td>4681.500000</td>\n      <td>4681.500000</td>\n      <td>1.954160e+09</td>\n      <td>17649.400391</td>\n      <td>17768.410156</td>\n      <td>17633.470703</td>\n      <td>17768.300781</td>\n      <td>17768.300781</td>\n      <td>139700.0</td>\n      <td>2.895</td>\n      <td>3.005</td>\n      <td>2.888</td>\n      <td>2.981</td>\n      <td>2.981</td>\n      <td>55623.0</td>\n      <td>10793.040039</td>\n      <td>10830.200195</td>\n      <td>10718.849609</td>\n      <td>10781.830078</td>\n      <td>10781.830078</td>\n      <td>3.329810e+09</td>\n      <td>18.110001</td>\n      <td>18.110001</td>\n      <td>18.068001</td>\n      <td>18.068001</td>\n      <td>18.068001</td>\n      <td>10.0</td>\n      <td>2047.859985</td>\n      <td>2047.859985</td>\n      <td>2019.910034</td>\n      <td>2029.550049</td>\n      <td>2029.550049</td>\n      <td>3.329810e+09</td>\n      <td>6.2458</td>\n      <td>6.2458</td>\n      <td>6.2351</td>\n      <td>6.2458</td>\n      <td>6.2458</td>\n      <td>0.0</td>\n      <td>NaN</td>\n      <td>NaN</td>\n    </tr>\n    <tr>\n      <th>4</th>\n      <td>2015-01-28</td>\n      <td>29.530001</td>\n      <td>28.827499</td>\n      <td>29.407499</td>\n      <td>28.827499</td>\n      <td>585908400.0</td>\n      <td>26.260420</td>\n      <td>25.352365</td>\n      <td>25.248712</td>\n      <td>25.399851</td>\n      <td>0.053669</td>\n      <td>-0.083479</td>\n      <td>62.830907</td>\n      <td>26.299999</td>\n      <td>29.530001</td>\n      <td>78.250744</td>\n      <td>69.438065</td>\n      <td>AAPL</td>\n      <td>45.830002</td>\n      <td>45.830002</td>\n      <td>44.080002</td>\n      <td>44.450001</td>\n      <td>44.450001</td>\n      <td>365440.0</td>\n      <td>17402.910156</td>\n      <td>17484.410156</td>\n      <td>17189.000000</td>\n      <td>17191.369141</td>\n      <td>17191.369141</td>\n      <td>115980000.0</td>\n      <td>1.136699</td>\n      <td>1.138200</td>\n      <td>1.130780</td>\n      <td>1.136738</td>\n      <td>1.136738</td>\n      <td>0.0</td>\n      <td>1285.900024</td>\n      <td>1286.800049</td>\n      <td>1285.900024</td>\n      <td>1285.900024</td>\n      <td>1285.900024</td>\n      <td>180387.0</td>\n      <td>4740.689941</td>\n      <td>4742.060059</td>\n      <td>4637.479980</td>\n      <td>4637.990234</td>\n      <td>4637.990234</td>\n      <td>2.118680e+09</td>\n      <td>17615.929688</td>\n      <td>17850.589844</td>\n      <td>17615.929688</td>\n      <td>17795.730469</td>\n      <td>17795.730469</td>\n      <td>141900.0</td>\n      <td>2.917</td>\n      <td>2.930</td>\n      <td>2.828</td>\n      <td>2.866</td>\n      <td>2.866</td>\n      <td>127186.0</td>\n      <td>10797.230469</td>\n      <td>10804.169922</td>\n      <td>10596.879883</td>\n      <td>10603.860352</td>\n      <td>10603.860352</td>\n      <td>4.067530e+09</td>\n      <td>18.068001</td>\n      <td>18.068001</td>\n      <td>18.068001</td>\n      <td>18.068001</td>\n      <td>18.068001</td>\n      <td>166.0</td>\n      <td>2032.339966</td>\n      <td>2042.489990</td>\n      <td>2001.489990</td>\n      <td>2002.160034</td>\n      <td>2002.160034</td>\n      <td>4.067530e+09</td>\n      <td>6.2351</td>\n      <td>6.2365</td>\n      <td>6.2302</td>\n      <td>6.2351</td>\n      <td>6.2351</td>\n      <td>0.0</td>\n      <td>NaN</td>\n      <td>NaN</td>\n    </tr>\n  </tbody>\n</table>\n</div>"
     },
     "metadata": {},
     "execution_count": 70
    }
   ],
   "source": [
    "df_final = sp500histprice.copy()\n",
    "df_final = pd.merge(df_final,indices, how='left',left_on=['Date'], right_on = ['Date'])\n",
    "df_final = pd.merge(df_final,sentimental, how='left',left_on=['Date','name'], right_on = ['date','ticker']).drop(['ticker','date'],axis =1)\n",
    "df_final = pd.merge(df_final,ggtrend, how='left',left_on=['Date','name'], right_on = ['date','Name']).drop(['date','Name'],axis =1)\n",
    "df_final.head()"
   ]
  },
  {
   "cell_type": "code",
   "execution_count": 72,
   "metadata": {},
   "outputs": [
    {
     "output_type": "stream",
     "name": "stdout",
     "text": [
      "<class 'pandas.core.frame.DataFrame'>\nInt64Index: 739464 entries, 0 to 739463\nData columns (total 85 columns):\n #   Column                 Non-Null Count   Dtype  \n---  ------                 --------------   -----  \n 0   Date                   739464 non-null  object \n 1   High                   739464 non-null  float64\n 2   Low                    739464 non-null  float64\n 3   Open                   739464 non-null  float64\n 4   Volume                 739464 non-null  float64\n 5   Adj Close              739464 non-null  float64\n 6   ema10                  739464 non-null  float64\n 7   ema20                  739464 non-null  float64\n 8   ema75                  739464 non-null  float64\n 9   macd                   739464 non-null  float64\n 10  macd_signal_line       739464 non-null  float64\n 11  rsi                    739464 non-null  float64\n 12  L14                    739464 non-null  float64\n 13  H14                    739464 non-null  float64\n 14  %K                     739464 non-null  float64\n 15  %D                     739464 non-null  float64\n 16  name                   739464 non-null  object \n 17  COILOpen               701392 non-null  float64\n 18  COILHigh               701392 non-null  float64\n 19  COILLow                701392 non-null  float64\n 20  COILClose              701392 non-null  float64\n 21  COILAdj Close          701392 non-null  float64\n 22  COILVolume             701392 non-null  float64\n 23  DJIOpen                701392 non-null  float64\n 24  DJIHigh                701392 non-null  float64\n 25  DJILow                 701392 non-null  float64\n 26  DJIClose               701392 non-null  float64\n 27  DJIAdj Close           701392 non-null  float64\n 28  DJIVolume              701392 non-null  float64\n 29  EURUSDOpen             701392 non-null  float64\n 30  EURUSDHigh             701392 non-null  float64\n 31  EURUSDLow              701392 non-null  float64\n 32  EURUSDClose            701392 non-null  float64\n 33  EURUSDAdj Close        701392 non-null  float64\n 34  EURUSDVolume           701392 non-null  float64\n 35  GOLDOpen               701392 non-null  float64\n 36  GOLDHigh               701392 non-null  float64\n 37  GOLDLow                701392 non-null  float64\n 38  GOLDClose              701392 non-null  float64\n 39  GOLDAdj Close          701392 non-null  float64\n 40  GOLDVolume             701392 non-null  float64\n 41  IXICOpen               701392 non-null  float64\n 42  IXICHigh               701392 non-null  float64\n 43  IXICLow                701392 non-null  float64\n 44  IXICClose              701392 non-null  float64\n 45  IXICAdj Close          701392 non-null  float64\n 46  IXICVolume             701392 non-null  float64\n 47  N225Open               701392 non-null  float64\n 48  N225High               701392 non-null  float64\n 49  N225Low                701392 non-null  float64\n 50  N225Close              701392 non-null  float64\n 51  N225Adj Close          701392 non-null  float64\n 52  N225Volume             701392 non-null  float64\n 53  NGFOpen                701392 non-null  float64\n 54  NGFHigh                701392 non-null  float64\n 55  NGFLow                 701392 non-null  float64\n 56  NGFClose               701392 non-null  float64\n 57  NGFAdj Close           701392 non-null  float64\n 58  NGFVolume              701392 non-null  float64\n 59  NYAOpen                701392 non-null  float64\n 60  NYAHigh                701392 non-null  float64\n 61  NYALow                 701392 non-null  float64\n 62  NYAClose               701392 non-null  float64\n 63  NYAAdj Close           701392 non-null  float64\n 64  NYAVolume              701392 non-null  float64\n 65  SILVEROpen             701392 non-null  float64\n 66  SILVERHigh             701392 non-null  float64\n 67  SILVERLow              701392 non-null  float64\n 68  SILVERClose            701392 non-null  float64\n 69  SILVERAdj Close        701392 non-null  float64\n 70  SILVERVolume           701392 non-null  float64\n 71  SP500Open              701392 non-null  float64\n 72  SP500High              701392 non-null  float64\n 73  SP500Low               701392 non-null  float64\n 74  SP500Close             701392 non-null  float64\n 75  SP500Adj Close         701392 non-null  float64\n 76  SP500Volume            701392 non-null  float64\n 77  USDCNYOpen             701392 non-null  float64\n 78  USDCNYHigh             701392 non-null  float64\n 79  USDCNYLow              701392 non-null  float64\n 80  USDCNYClose            701392 non-null  float64\n 81  USDCNYAdj Close        701392 non-null  float64\n 82  USDCNYVolume           701392 non-null  float64\n 83  compound               739464 non-null  float64\n 84  GGTrendAllTimeMonthly  739464 non-null  float64\ndtypes: float64(83), object(2)\nmemory usage: 485.2+ MB\n"
     ]
    }
   ],
   "source": [
    "df_final = df_final.drop('Close', axis = 1)\n",
    "df_final = df_final.fillna({'GGTrendAllTimeMonthly':0,'compound':0})\n",
    "df_final.info()"
   ]
  },
  {
   "cell_type": "code",
   "execution_count": 73,
   "metadata": {},
   "outputs": [
    {
     "output_type": "execute_result",
     "data": {
      "text/plain": [
       "Date                         0\n",
       "High                         0\n",
       "Low                          0\n",
       "Open                         0\n",
       "Volume                       0\n",
       "Adj Close                    0\n",
       "ema10                        0\n",
       "ema20                        0\n",
       "ema75                        0\n",
       "macd                         0\n",
       "macd_signal_line             0\n",
       "rsi                          0\n",
       "L14                          0\n",
       "H14                          0\n",
       "%K                           0\n",
       "%D                           0\n",
       "name                         0\n",
       "COILOpen                 38072\n",
       "COILHigh                 38072\n",
       "COILLow                  38072\n",
       "COILClose                38072\n",
       "COILAdj Close            38072\n",
       "COILVolume               38072\n",
       "DJIOpen                  38072\n",
       "DJIHigh                  38072\n",
       "DJILow                   38072\n",
       "DJIClose                 38072\n",
       "DJIAdj Close             38072\n",
       "DJIVolume                38072\n",
       "EURUSDOpen               38072\n",
       "EURUSDHigh               38072\n",
       "EURUSDLow                38072\n",
       "EURUSDClose              38072\n",
       "EURUSDAdj Close          38072\n",
       "EURUSDVolume             38072\n",
       "GOLDOpen                 38072\n",
       "GOLDHigh                 38072\n",
       "GOLDLow                  38072\n",
       "GOLDClose                38072\n",
       "GOLDAdj Close            38072\n",
       "GOLDVolume               38072\n",
       "IXICOpen                 38072\n",
       "IXICHigh                 38072\n",
       "IXICLow                  38072\n",
       "IXICClose                38072\n",
       "IXICAdj Close            38072\n",
       "IXICVolume               38072\n",
       "N225Open                 38072\n",
       "N225High                 38072\n",
       "N225Low                  38072\n",
       "N225Close                38072\n",
       "N225Adj Close            38072\n",
       "N225Volume               38072\n",
       "NGFOpen                  38072\n",
       "NGFHigh                  38072\n",
       "NGFLow                   38072\n",
       "NGFClose                 38072\n",
       "NGFAdj Close             38072\n",
       "NGFVolume                38072\n",
       "NYAOpen                  38072\n",
       "NYAHigh                  38072\n",
       "NYALow                   38072\n",
       "NYAClose                 38072\n",
       "NYAAdj Close             38072\n",
       "NYAVolume                38072\n",
       "SILVEROpen               38072\n",
       "SILVERHigh               38072\n",
       "SILVERLow                38072\n",
       "SILVERClose              38072\n",
       "SILVERAdj Close          38072\n",
       "SILVERVolume             38072\n",
       "SP500Open                38072\n",
       "SP500High                38072\n",
       "SP500Low                 38072\n",
       "SP500Close               38072\n",
       "SP500Adj Close           38072\n",
       "SP500Volume              38072\n",
       "USDCNYOpen               38072\n",
       "USDCNYHigh               38072\n",
       "USDCNYLow                38072\n",
       "USDCNYClose              38072\n",
       "USDCNYAdj Close          38072\n",
       "USDCNYVolume             38072\n",
       "compound                     0\n",
       "GGTrendAllTimeMonthly        0\n",
       "dtype: int64"
      ]
     },
     "metadata": {},
     "execution_count": 73
    }
   ],
   "source": [
    "df_final.isna().sum()"
   ]
  },
  {
   "cell_type": "code",
   "execution_count": 74,
   "metadata": {},
   "outputs": [],
   "source": [
    "df_final.to_csv(os.path.join(datapath,'df_final.csv'))"
   ]
  },
  {
   "source": [],
   "cell_type": "markdown",
   "metadata": {}
  },
  {
   "source": [
    "## Load data"
   ],
   "cell_type": "markdown",
   "metadata": {}
  },
  {
   "cell_type": "code",
   "execution_count": 12,
   "metadata": {},
   "outputs": [
    {
     "output_type": "stream",
     "name": "stdout",
     "text": [
      "<class 'pandas.core.frame.DataFrame'>\nRangeIndex: 739464 entries, 0 to 739463\nData columns (total 86 columns):\n #   Column                 Non-Null Count   Dtype  \n---  ------                 --------------   -----  \n 0   Unnamed: 0             739464 non-null  int64  \n 1   Date                   739464 non-null  object \n 2   High                   739464 non-null  float64\n 3   Low                    739464 non-null  float64\n 4   Open                   739464 non-null  float64\n 5   Volume                 739464 non-null  float64\n 6   Adj Close              739464 non-null  float64\n 7   ema10                  739464 non-null  float64\n 8   ema20                  739464 non-null  float64\n 9   ema75                  739464 non-null  float64\n 10  macd                   739464 non-null  float64\n 11  macd_signal_line       739464 non-null  float64\n 12  rsi                    739464 non-null  float64\n 13  L14                    739464 non-null  float64\n 14  H14                    739464 non-null  float64\n 15  %K                     739464 non-null  float64\n 16  %D                     739464 non-null  float64\n 17  name                   739464 non-null  object \n 18  COILOpen               701392 non-null  float64\n 19  COILHigh               701392 non-null  float64\n 20  COILLow                701392 non-null  float64\n 21  COILClose              701392 non-null  float64\n 22  COILAdj Close          701392 non-null  float64\n 23  COILVolume             701392 non-null  float64\n 24  DJIOpen                701392 non-null  float64\n 25  DJIHigh                701392 non-null  float64\n 26  DJILow                 701392 non-null  float64\n 27  DJIClose               701392 non-null  float64\n 28  DJIAdj Close           701392 non-null  float64\n 29  DJIVolume              701392 non-null  float64\n 30  EURUSDOpen             701392 non-null  float64\n 31  EURUSDHigh             701392 non-null  float64\n 32  EURUSDLow              701392 non-null  float64\n 33  EURUSDClose            701392 non-null  float64\n 34  EURUSDAdj Close        701392 non-null  float64\n 35  EURUSDVolume           701392 non-null  float64\n 36  GOLDOpen               701392 non-null  float64\n 37  GOLDHigh               701392 non-null  float64\n 38  GOLDLow                701392 non-null  float64\n 39  GOLDClose              701392 non-null  float64\n 40  GOLDAdj Close          701392 non-null  float64\n 41  GOLDVolume             701392 non-null  float64\n 42  IXICOpen               701392 non-null  float64\n 43  IXICHigh               701392 non-null  float64\n 44  IXICLow                701392 non-null  float64\n 45  IXICClose              701392 non-null  float64\n 46  IXICAdj Close          701392 non-null  float64\n 47  IXICVolume             701392 non-null  float64\n 48  N225Open               701392 non-null  float64\n 49  N225High               701392 non-null  float64\n 50  N225Low                701392 non-null  float64\n 51  N225Close              701392 non-null  float64\n 52  N225Adj Close          701392 non-null  float64\n 53  N225Volume             701392 non-null  float64\n 54  NGFOpen                701392 non-null  float64\n 55  NGFHigh                701392 non-null  float64\n 56  NGFLow                 701392 non-null  float64\n 57  NGFClose               701392 non-null  float64\n 58  NGFAdj Close           701392 non-null  float64\n 59  NGFVolume              701392 non-null  float64\n 60  NYAOpen                701392 non-null  float64\n 61  NYAHigh                701392 non-null  float64\n 62  NYALow                 701392 non-null  float64\n 63  NYAClose               701392 non-null  float64\n 64  NYAAdj Close           701392 non-null  float64\n 65  NYAVolume              701392 non-null  float64\n 66  SILVEROpen             701392 non-null  float64\n 67  SILVERHigh             701392 non-null  float64\n 68  SILVERLow              701392 non-null  float64\n 69  SILVERClose            701392 non-null  float64\n 70  SILVERAdj Close        701392 non-null  float64\n 71  SILVERVolume           701392 non-null  float64\n 72  SP500Open              701392 non-null  float64\n 73  SP500High              701392 non-null  float64\n 74  SP500Low               701392 non-null  float64\n 75  SP500Close             701392 non-null  float64\n 76  SP500Adj Close         701392 non-null  float64\n 77  SP500Volume            701392 non-null  float64\n 78  USDCNYOpen             701392 non-null  float64\n 79  USDCNYHigh             701392 non-null  float64\n 80  USDCNYLow              701392 non-null  float64\n 81  USDCNYClose            701392 non-null  float64\n 82  USDCNYAdj Close        701392 non-null  float64\n 83  USDCNYVolume           701392 non-null  float64\n 84  compound               739464 non-null  float64\n 85  GGTrendAllTimeMonthly  739464 non-null  float64\ndtypes: float64(83), int64(1), object(2)\nmemory usage: 485.2+ MB\n"
     ]
    }
   ],
   "source": [
    "df_final= pd.read_csv(os.path.join(datapath,'df_final.csv'))\n",
    "df_final.info()"
   ]
  },
  {
   "cell_type": "code",
   "execution_count": 14,
   "metadata": {},
   "outputs": [],
   "source": [
    "# df_final = df_final.drop('Unnamed: 0',axis = 1)\n",
    "# df_final.fillna(method='ffill',inplace=True)\n",
    "# df_final.isna().sum().sum()\n",
    "df_final.to_csv(os.path.join(datapath,'df_final2.csv'),index=False)"
   ]
  },
  {
   "cell_type": "code",
   "execution_count": null,
   "metadata": {},
   "outputs": [],
   "source": [
    "df_final= pd.read_csv(os.path.join(datapath,'df_final2.csv'))"
   ]
  }
 ]
}